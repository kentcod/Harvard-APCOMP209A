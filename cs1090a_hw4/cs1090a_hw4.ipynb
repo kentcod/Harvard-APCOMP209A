{
 "cells": [
  {
   "cell_type": "code",
   "execution_count": 1,
   "metadata": {
    "deletable": false,
    "editable": false
   },
   "outputs": [],
   "source": [
    "# Initialize Otter\n",
    "import otter\n",
    "grader = otter.Notebook(\"cs1090a_hw4.ipynb\")"
   ]
  },
  {
   "cell_type": "markdown",
   "metadata": {
    "tags": []
   },
   "source": [
    "# <img style=\"float: left; padding-right: 10px; width: 45px\" src=\"https://raw.githubusercontent.com/Harvard-IACS/2018-CS109A/master/content/styles/iacs.png\"> CS1090A Introduction to Data Science: \n",
    "## Homework 4: Classification: Predicting College Admissions\n",
    "\n",
    "**Harvard University**<br/>\n",
    "**Fall 2024**<br/>\n",
    "**Instructors**: Pavlos Protopapas and Natesh Pillai\n",
    "\n",
    "<hr style=\"height:2.4pt\">"
   ]
  },
  {
   "cell_type": "code",
   "execution_count": 2,
   "metadata": {},
   "outputs": [
    {
     "data": {
      "text/html": [
       "<style>\n",
       "blockquote { background: #AEDE94; }\n",
       "h1 {\n",
       "    padding-top: 25px;\n",
       "    padding-bottom: 25px;\n",
       "    text-align: left;\n",
       "    padding-left: 10px;\n",
       "    background-color: #63ACBE;\n",
       "    color: black;\n",
       "}\n",
       "h2 {\n",
       "    padding-top: 10px;\n",
       "    padding-bottom: 10px;\n",
       "    text-align: left;\n",
       "    padding-left: 5px;\n",
       "    background-color: #EEEEEE;\n",
       "    color: black;\n",
       "}\n",
       "\n",
       "div.exercise {\n",
       "\tbackground-color: #f8b4ab;\n",
       "\tborder-color: #E9967A;\n",
       "\tborder-left: 5px solid #601A4A;\n",
       "\tpadding: 0.5em;\n",
       "}\n",
       "\n",
       "div.exercise-r {\n",
       "\tbackground-color: #ffd0d0;\n",
       "\tborder-color: #E9967A;\n",
       "\tborder-left: 5px solid #601A4A;\n",
       "\tpadding: 0.5em;\n",
       "}\n",
       "\n",
       "\n",
       "span.sub-q {\n",
       "\tfont-weight: bold;\n",
       "}\n",
       "div.theme {\n",
       "\tbackground-color: #63ACBE;\n",
       "\tborder-color: #E9967A;\n",
       "\tborder-left: 5px solid #601A4A;\n",
       "\tpadding: 0.5em;\n",
       "\tfont-size: 18pt;\n",
       "}\n",
       "div.gc {\n",
       "\tbackground-color: #AEDE94;\n",
       "\tborder-color: #E9967A;\n",
       "\tborder-left: 5px solid #601A4A;\n",
       "\tpadding: 0.5em;\n",
       "\tfont-size: 12pt;\n",
       "}\n",
       "p.q1 {\n",
       "    padding-top: 5px;\n",
       "    padding-bottom: 5px;\n",
       "    text-align: left;\n",
       "    padding-left: 5px;\n",
       "    background-color: #EEEEEE;\n",
       "    color: black;\n",
       "}\n",
       "header {\n",
       "   padding-top: 35px;\n",
       "    padding-bottom: 35px;\n",
       "    text-align: left;\n",
       "    padding-left: 10px;\n",
       "    background-color: #DDDDDD;\n",
       "    color: black;\n",
       "}\n",
       "span.emph {\n",
       "\tcolor: #601A4A;\n",
       "\tfont-weight: bold;\n",
       "}\n",
       "\n",
       "</style>\n"
      ],
      "text/plain": [
       "<IPython.core.display.HTML object>"
      ]
     },
     "execution_count": 2,
     "metadata": {},
     "output_type": "execute_result"
    }
   ],
   "source": [
    "# RUN THIS CELL \n",
    "import requests\n",
    "from IPython.core.display import HTML\n",
    "styles = requests.get(\n",
    "    \"https://raw.githubusercontent.com/Harvard-IACS/2021-CS109A/master/\"\n",
    "    \"themes/static/css/cs109.css\"\n",
    ").text\n",
    "HTML(styles)"
   ]
  },
  {
   "cell_type": "markdown",
   "metadata": {},
   "source": [
    "<div style = \"border: thin solid black; border-radius: 2px; padding: 5px\">\n",
    "\n",
    "### Instructions\n",
    "- To submit your notebook, follow the instructions given in on the Canvas assignment page.\n",
    "- Plots should be legible and interpretable *without having to refer to the code that generated them*. They should include labels for the $x$- and $y$-axes as well as a descriptive title and/or legend when appropriate.\n",
    "- When asked to interpret a visualization, do not simply describe it (e.g., \"the curve has a steep slope up\"), but instead explain what you believe the plot *means*.\n",
    "- Autograding tests are mostly to help you debug. The tests are not exhaustive so simply passing all tests may not be sufficient for full credit.\n",
    "- The use of *extremely* inefficient or error-prone code (e.g., copy-pasting nearly identical commands rather than looping) may result in only partial credit.\n",
    "- We have tried to include all the libraries you may need to do the assignment in the imports cell provided below. Please get course staff approval before importing any additional 3rd party libraries.\n",
    "- Enable scrolling output on cells with slighlty longer output. Avoid excessively long output.\n",
    "- Feel free to add additional code or markdown cells as needed.\n",
    "- Don't forget to include a written response when one is requested by a question prompt.\n",
    "- Ensure your code runs top to bottom without error and passes all tests by restarting the kernel and running all cells (note that this can take a few minutes). \n",
    "- **You should do a \"Restart Kernel and Run All Cells\" before submitting to ensure (1) your notebook actually runs and (2) all output is visible**\n",
    "</div>"
   ]
  },
  {
   "cell_type": "markdown",
   "metadata": {},
   "source": [
    "### Import Libraries"
   ]
  },
  {
   "cell_type": "code",
   "execution_count": 3,
   "metadata": {},
   "outputs": [],
   "source": [
    "# RUN THIS CELL\n",
    "import itertools\n",
    "import math\n",
    "import time\n",
    "\n",
    "import numpy as np\n",
    "import pandas as pd\n",
    "import seaborn as sns\n",
    "import matplotlib.pyplot as plt\n",
    "\n",
    "from sklearn.model_selection import train_test_split\n",
    "from sklearn.preprocessing import PolynomialFeatures\n",
    "from sklearn.preprocessing import StandardScaler\n",
    "from sklearn.model_selection import cross_validate, cross_val_score, cross_val_predict\n",
    "\n",
    "from sklearn.linear_model import LogisticRegression\n",
    "from sklearn.neighbors import KNeighborsClassifier\n",
    "from sklearn.linear_model import LogisticRegressionCV\n",
    "\n",
    "from sklearn.metrics import accuracy_score\n",
    "from sklearn.metrics import roc_curve\n",
    "from sklearn.metrics import roc_auc_score\n",
    "\n",
    "# pandas tricks for better display\n",
    "pd.options.display.max_columns = 50  \n",
    "pd.options.display.max_rows = 500     \n",
    "pd.options.display.max_colwidth = 100\n",
    "pd.options.display.precision = 3"
   ]
  },
  {
   "cell_type": "code",
   "execution_count": 4,
   "metadata": {},
   "outputs": [],
   "source": [
    "# For calculating total notebook runtime\n",
    "notebook_start = time.time()"
   ]
  },
  {
   "cell_type": "markdown",
   "metadata": {},
   "source": [
    "<a id=\"contents\"></a>\n",
    "\n",
    "## Notebook contents\n",
    "\n",
    "- [**Overview and data description**](#intro)\n",
    "\n",
    "\n",
    "- [**Question 1: Data exploration using train and basic models**](#part1)\n",
    "\n",
    "- [**Question 2: Interpretable modeling**](#part2)\n",
    "\n",
    "- [**Question 3: Harvard and Yale?**](#part3)\n",
    "\n",
    "- [**Question 4: Building predictive models for admitted**](#part4)\n",
    "\n",
    "- [**Question 5: Evaluating results**](#part5)\n",
    "\n",
    "- [**Question 6: BONUS!**](#part6)"
   ]
  },
  {
   "cell_type": "markdown",
   "metadata": {},
   "source": [
    "<a id=\"intro\"></a>\n",
    "\n",
    "## Overview and data description\n",
    "\n",
    "[Return to contents](#contents)\n",
    "\n",
    "### Predicting admissions into elite universities\n",
    "\n",
    "In this problem set we will model the chances of high school students being accepted into two different elite undergraduate colleges: Harvard and Yale.\n",
    "\n",
    "The data are provided in the file `data/college_admissions.csv` and were scraped in 2022 from [collegedata.com](https://www.collegedata.com/) (where applicants volunteer to share their information).  Each observation corresponds to an applicant to one of the two different colleges (note: the same applicant may show up in two rows: once for each college).  The main response is the `\"admitted\"` variable (1 = admitted, 0 = denied), and there are are several predictors to consider:\n",
    "\n",
    "- **id**: a unique identifier for the applicant \n",
    "- **test_score**: a standardized measurement of the applicant's highest ACT or SAT combined score (2400 is the maximum)\n",
    "- **ap**: the number of AP tests taken\n",
    "- **avg_ap**: the average score on the AP tests taken (0 if no tests were taken)\n",
    "- **sat_subjects**: the number of SAT subject tests taken\n",
    "- **gpa**: the unweighted GPA of the applicant (max of 4.0)\n",
    "- **female**:  a binary indicator for gender: 1 = female, 0 = otherwise\n",
    "- **minority**: a binary indicator for under-represented minority: 1 = minority, 0 = otherwise \n",
    "- **international**: a binary indicator for international status: 1 = international, 0 = United States\n",
    "- **sports**: a binary indicator for High School All-American: 1 = all-American athlete, 0 = otherwise\n",
    "- **harvard**: a categorical variable for school applied to: 1 = Harvard, 0 = Yale\n",
    "- **early_app**: a binary indicator for application type: 1 = early action, 0 = regular\n",
    "- **alumni**:  a binary indicator for parents' alumni status of school: 1 = a parent is an alumnus, 0 = otherwise\n",
    "- **program**: the program applied to by the student with many choices (we will not use this as a predictor)\n",
    "- **add_info**: additional (optional) info provided by applicant (we will not use this as a predictor)\n",
    "\n",
    "**The main set of 12 predictors is:**\n",
    "\n",
    "```python\n",
    "[\n",
    "    \"test_score\", \"ap\", \"avg_ap\", \"sat_subjects\", \n",
    "    \"gpa\", \"female\", \"minority\", \"international\",\n",
    "    \"sports\", \"harvard\", \"early_app\", \"alumni\",\n",
    "]\n",
    "```\n",
    "\n",
    "Please note, you may need to modify this list when fitting different models.\n",
    "\n",
    "\n",
    "**IMPORTANT NOTES:**\n",
    "\n",
    "- Unless stated otherwise, all logistic regression models should be unregularized (use `penalty=None`) and include the intercept (which is the default in `sklearn`).\n",
    "\n",
    "\n",
    "- When printing your output (e.g. coefficients, accuracy scores, etc.), DO NOT just print numbers without context. Please be certain provide clarifying labels for all printed numbers and limit the number of digits showing after decimals to a reasonable length (e.g. 4 decimal points for coefficients and accuracy scores).\n",
    "\n",
    "\n",
    "- Also be sure to practice good data science principles: always use train to do analysis and never touch the test set until the very end."
   ]
  },
  {
   "cell_type": "markdown",
   "metadata": {},
   "source": [
    "---"
   ]
  },
  {
   "cell_type": "markdown",
   "metadata": {},
   "source": [
    "<a id=\"part1\"></a>\n",
    "\n",
    "## <div class='exercise'>Question 1: Data exploration using train and basic models</div>\n",
    "\n",
    "[Return to contents](#contents)\n",
    "\n",
    "The first step is to split the observations into an approximate 80-20 train-test split.  Below is some code to do this for you (we want to make sure everyone has the same splits). It also prints the dataset's shape before splitting and after splitting. \n",
    "\n",
    "**IMPORTANT:** While an argument could be made to scale our predictors here, please **DO NOT** do so **UNTIL** it is requested of you in **[Question 4.1](#part4)**.\n"
   ]
  },
  {
   "cell_type": "code",
   "execution_count": 5,
   "metadata": {},
   "outputs": [
    {
     "name": "stdout",
     "output_type": "stream",
     "text": [
      "(1871, 16)\n",
      "(1496, 16) (375, 16)\n"
     ]
    },
    {
     "data": {
      "text/html": [
       "<div>\n",
       "<style scoped>\n",
       "    .dataframe tbody tr th:only-of-type {\n",
       "        vertical-align: middle;\n",
       "    }\n",
       "\n",
       "    .dataframe tbody tr th {\n",
       "        vertical-align: top;\n",
       "    }\n",
       "\n",
       "    .dataframe thead th {\n",
       "        text-align: right;\n",
       "    }\n",
       "</style>\n",
       "<table border=\"1\" class=\"dataframe\">\n",
       "  <thead>\n",
       "    <tr style=\"text-align: right;\">\n",
       "      <th></th>\n",
       "      <th>id</th>\n",
       "      <th>admitted</th>\n",
       "      <th>test_score</th>\n",
       "      <th>ap</th>\n",
       "      <th>avg_ap</th>\n",
       "      <th>sat_subjects</th>\n",
       "      <th>gpa</th>\n",
       "      <th>female</th>\n",
       "      <th>minority</th>\n",
       "      <th>international</th>\n",
       "      <th>sports</th>\n",
       "      <th>early_app</th>\n",
       "      <th>alumni</th>\n",
       "      <th>program</th>\n",
       "      <th>add_info</th>\n",
       "      <th>harvard</th>\n",
       "    </tr>\n",
       "  </thead>\n",
       "  <tbody>\n",
       "    <tr>\n",
       "      <th>192</th>\n",
       "      <td>NYFN0GE0KK</td>\n",
       "      <td>1</td>\n",
       "      <td>2310</td>\n",
       "      <td>7</td>\n",
       "      <td>5.000</td>\n",
       "      <td>5</td>\n",
       "      <td>3.98</td>\n",
       "      <td>0</td>\n",
       "      <td>0</td>\n",
       "      <td>0</td>\n",
       "      <td>0</td>\n",
       "      <td>0</td>\n",
       "      <td>0</td>\n",
       "      <td>Economics</td>\n",
       "      <td>Activities Activity Position Honors Grade Levels Approximate Time When Participated Participate ...</td>\n",
       "      <td>1</td>\n",
       "    </tr>\n",
       "    <tr>\n",
       "      <th>652</th>\n",
       "      <td>50FWDZ3MBF</td>\n",
       "      <td>1</td>\n",
       "      <td>2010</td>\n",
       "      <td>3</td>\n",
       "      <td>4.333</td>\n",
       "      <td>3</td>\n",
       "      <td>3.75</td>\n",
       "      <td>1</td>\n",
       "      <td>1</td>\n",
       "      <td>0</td>\n",
       "      <td>0</td>\n",
       "      <td>0</td>\n",
       "      <td>0</td>\n",
       "      <td>History Political Science</td>\n",
       "      <td>Drama Club Co founder of a Community Outreach Organization called Los Amigos volunteered helped ...</td>\n",
       "      <td>1</td>\n",
       "    </tr>\n",
       "    <tr>\n",
       "      <th>593</th>\n",
       "      <td>KYYHQRHBV9</td>\n",
       "      <td>0</td>\n",
       "      <td>2080</td>\n",
       "      <td>5</td>\n",
       "      <td>4.200</td>\n",
       "      <td>2</td>\n",
       "      <td>3.85</td>\n",
       "      <td>0</td>\n",
       "      <td>0</td>\n",
       "      <td>0</td>\n",
       "      <td>0</td>\n",
       "      <td>0</td>\n",
       "      <td>0</td>\n",
       "      <td>Biology Pre Med</td>\n",
       "      <td>moderate a few sports and clubs and a part time jobfamily circumstances positive</td>\n",
       "      <td>1</td>\n",
       "    </tr>\n",
       "    <tr>\n",
       "      <th>331</th>\n",
       "      <td>JQ8O4AV4VM</td>\n",
       "      <td>0</td>\n",
       "      <td>2250</td>\n",
       "      <td>0</td>\n",
       "      <td>0.000</td>\n",
       "      <td>2</td>\n",
       "      <td>4.00</td>\n",
       "      <td>0</td>\n",
       "      <td>0</td>\n",
       "      <td>0</td>\n",
       "      <td>0</td>\n",
       "      <td>0</td>\n",
       "      <td>0</td>\n",
       "      <td>Physics</td>\n",
       "      <td>NaN</td>\n",
       "      <td>1</td>\n",
       "    </tr>\n",
       "    <tr>\n",
       "      <th>1117</th>\n",
       "      <td>SJUQZVBA7K</td>\n",
       "      <td>0</td>\n",
       "      <td>2230</td>\n",
       "      <td>4</td>\n",
       "      <td>4.000</td>\n",
       "      <td>5</td>\n",
       "      <td>3.96</td>\n",
       "      <td>1</td>\n",
       "      <td>0</td>\n",
       "      <td>0</td>\n",
       "      <td>0</td>\n",
       "      <td>1</td>\n",
       "      <td>0</td>\n",
       "      <td>Chemistry Chemical Engineering</td>\n",
       "      <td>MUN Advisor 12 10 National Honors Society 12 10 California Scholarship Federation 12 9 Book Club...</td>\n",
       "      <td>0</td>\n",
       "    </tr>\n",
       "  </tbody>\n",
       "</table>\n",
       "</div>"
      ],
      "text/plain": [
       "              id  admitted  test_score  ap  avg_ap  sat_subjects   gpa  \\\n",
       "192   NYFN0GE0KK         1        2310   7   5.000             5  3.98   \n",
       "652   50FWDZ3MBF         1        2010   3   4.333             3  3.75   \n",
       "593   KYYHQRHBV9         0        2080   5   4.200             2  3.85   \n",
       "331   JQ8O4AV4VM         0        2250   0   0.000             2  4.00   \n",
       "1117  SJUQZVBA7K         0        2230   4   4.000             5  3.96   \n",
       "\n",
       "      female  minority  international  sports  early_app  alumni  \\\n",
       "192        0         0              0       0          0       0   \n",
       "652        1         1              0       0          0       0   \n",
       "593        0         0              0       0          0       0   \n",
       "331        0         0              0       0          0       0   \n",
       "1117       1         0              0       0          1       0   \n",
       "\n",
       "                             program  \\\n",
       "192                        Economics   \n",
       "652        History Political Science   \n",
       "593                 Biology Pre Med    \n",
       "331                          Physics   \n",
       "1117  Chemistry Chemical Engineering   \n",
       "\n",
       "                                                                                                 add_info  \\\n",
       "192   Activities Activity Position Honors Grade Levels Approximate Time When Participated Participate ...   \n",
       "652   Drama Club Co founder of a Community Outreach Organization called Los Amigos volunteered helped ...   \n",
       "593                      moderate a few sports and clubs and a part time jobfamily circumstances positive   \n",
       "331                                                                                                   NaN   \n",
       "1117  MUN Advisor 12 10 National Honors Society 12 10 California Scholarship Federation 12 9 Book Club...   \n",
       "\n",
       "      harvard  \n",
       "192         1  \n",
       "652         1  \n",
       "593         1  \n",
       "331         1  \n",
       "1117        0  "
      ]
     },
     "metadata": {},
     "output_type": "display_data"
    },
    {
     "name": "stdout",
     "output_type": "stream",
     "text": [
      "<class 'pandas.core.frame.DataFrame'>\n",
      "Index: 1496 entries, 192 to 1296\n",
      "Data columns (total 16 columns):\n",
      " #   Column         Non-Null Count  Dtype  \n",
      "---  ------         --------------  -----  \n",
      " 0   id             1496 non-null   object \n",
      " 1   admitted       1496 non-null   int64  \n",
      " 2   test_score     1496 non-null   int64  \n",
      " 3   ap             1496 non-null   int64  \n",
      " 4   avg_ap         1496 non-null   float64\n",
      " 5   sat_subjects   1496 non-null   int64  \n",
      " 6   gpa            1496 non-null   float64\n",
      " 7   female         1496 non-null   int64  \n",
      " 8   minority       1496 non-null   int64  \n",
      " 9   international  1496 non-null   int64  \n",
      " 10  sports         1496 non-null   int64  \n",
      " 11  early_app      1496 non-null   int64  \n",
      " 12  alumni         1496 non-null   int64  \n",
      " 13  program        1298 non-null   object \n",
      " 14  add_info       949 non-null    object \n",
      " 15  harvard        1496 non-null   int64  \n",
      "dtypes: float64(2), int64(11), object(3)\n",
      "memory usage: 198.7+ KB\n"
     ]
    }
   ],
   "source": [
    "#############################\n",
    "## DO NOT MODIFY THIS CODE ##\n",
    "#############################\n",
    "np.random.seed(121)\n",
    "\n",
    "college = pd.read_csv(\"data/college_admissions.csv\")\n",
    "\n",
    "college_train, college_test = train_test_split(\n",
    "    college,\n",
    "    test_size=0.2,\n",
    "    random_state=121,\n",
    "    shuffle=True,\n",
    "    stratify=college[\"admitted\"],\n",
    ")\n",
    "\n",
    "print(college.shape)\n",
    "print(college_train.shape, college_test.shape)\n",
    "display(college_train.head())\n",
    "college_train.info()\n",
    "\n",
    "# Separate predictors from response\n",
    "X_train, y_train = college_train.drop(columns=[\"admitted\"]), college_train[\"admitted\"]\n",
    "X_test, y_test = college_test.drop(columns=[\"admitted\"]), college_test[\"admitted\"]"
   ]
  },
  {
   "cell_type": "markdown",
   "metadata": {
    "cell_id": "0a790850-87c6-4f46-b89e-048a2295c92b",
    "colab_type": "text",
    "deletable": false,
    "editable": false,
    "id": "IGFtXJmQap2q"
   },
   "source": [
    "<div class='exercise-r'>\n",
    "\n",
    "**Q1.1** Consider a baseline, \"naive\" model that predicts that *ALL* applicants belong to the same class. This class prediction is *not* determined by an applicant's feature values, but rather by the proportion of observations in the training data belonging to each class.\n",
    "\n",
    "Calculate the accuracy of this naive model on the training data and store it in `naive_train_acc`.\n",
    "\n",
    "**NOTE:** For this assignment, use the convention that accuracies range from 0 to 1 (to be consistant with sklearn).\n",
    "    \n",
    "</div>"
   ]
  },
  {
   "cell_type": "code",
   "execution_count": 6,
   "metadata": {
    "tags": []
   },
   "outputs": [
    {
     "data": {
      "text/plain": [
       "admitted\n",
       "0    0.73\n",
       "1    0.27\n",
       "Name: proportion, dtype: float64"
      ]
     },
     "execution_count": 6,
     "metadata": {},
     "output_type": "execute_result"
    }
   ],
   "source": [
    "# get counts for 0s and 1s\n",
    "college_train[\"admitted\"].value_counts(normalize=True)"
   ]
  },
  {
   "cell_type": "code",
   "execution_count": 7,
   "metadata": {},
   "outputs": [
    {
     "data": {
      "text/plain": [
       "np.float64(0.7299465240641712)"
      ]
     },
     "execution_count": 7,
     "metadata": {},
     "output_type": "execute_result"
    }
   ],
   "source": [
    "# since more 0s => naive model predicts 0 for all\n",
    "naive_train_acc = (college_train['admitted'] == 0).mean()\n",
    "naive_train_acc"
   ]
  },
  {
   "cell_type": "code",
   "execution_count": 8,
   "metadata": {
    "deletable": false,
    "editable": false
   },
   "outputs": [
    {
     "name": "stdout",
     "output_type": "stream",
     "text": [
      "Naive Classification Model Based on Training Proportions\n",
      "\tTrain Accuracy: 0.7299\n"
     ]
    }
   ],
   "source": [
    "print(\"Naive Classification Model Based on Training Proportions\")\n",
    "print(f\"\\tTrain Accuracy: {naive_train_acc:.4f}\")"
   ]
  },
  {
   "cell_type": "code",
   "execution_count": 9,
   "metadata": {
    "deletable": false,
    "editable": false
   },
   "outputs": [
    {
     "data": {
      "text/html": [
       "<p><strong><pre style='display: inline;'>q1.1</pre></strong> passed! 🌈</p>"
      ],
      "text/plain": [
       "q1.1 results: All test cases passed!"
      ]
     },
     "execution_count": 9,
     "metadata": {},
     "output_type": "execute_result"
    }
   ],
   "source": [
    "grader.check(\"q1.1\")"
   ]
  },
  {
   "cell_type": "markdown",
   "metadata": {
    "cell_id": "0a790850-87c6-4f46-b89e-048a2295c92b",
    "colab_type": "text",
    "deletable": false,
    "editable": false,
    "id": "IGFtXJmQap2q"
   },
   "source": [
    "<!-- BEGIN QUESTION -->\n",
    "\n",
    "<div class='exercise-r'>\n",
    "\n",
    "**Q1.2** Let's investigate how each of our 12 predictors is associated with whether or not an applicant is admitted into the college to which they applied (`admitted`). To this end, create a separate **visual** for each of our predictors to investigate their relationship with college admissions. **Suggestion:** Place these 12 visuals in a grid of subplots with 3 columns and 4 rows.\n",
    "\n",
    "</div>"
   ]
  },
  {
   "cell_type": "code",
   "execution_count": 10,
   "metadata": {
    "tags": []
   },
   "outputs": [
    {
     "name": "stderr",
     "output_type": "stream",
     "text": [
      "C:\\Users\\khcod\\AppData\\Local\\Temp\\ipykernel_9376\\3824402731.py:19: FutureWarning: \n",
      "\n",
      "Passing `palette` without assigning `hue` is deprecated and will be removed in v0.14.0. Assign the `x` variable to `hue` and set `legend=False` for the same effect.\n",
      "\n",
      "  sns.stripplot(data=college_train_predictors, y=col, x=college_train[\"admitted\"], ax=ax[i], palette={\"0\": \"blue\", \"1\": \"orange\"})\n",
      "C:\\Users\\khcod\\AppData\\Local\\Temp\\ipykernel_9376\\3824402731.py:19: FutureWarning: \n",
      "\n",
      "Passing `palette` without assigning `hue` is deprecated and will be removed in v0.14.0. Assign the `x` variable to `hue` and set `legend=False` for the same effect.\n",
      "\n",
      "  sns.stripplot(data=college_train_predictors, y=col, x=college_train[\"admitted\"], ax=ax[i], palette={\"0\": \"blue\", \"1\": \"orange\"})\n",
      "C:\\Users\\khcod\\AppData\\Local\\Temp\\ipykernel_9376\\3824402731.py:19: FutureWarning: \n",
      "\n",
      "Passing `palette` without assigning `hue` is deprecated and will be removed in v0.14.0. Assign the `x` variable to `hue` and set `legend=False` for the same effect.\n",
      "\n",
      "  sns.stripplot(data=college_train_predictors, y=col, x=college_train[\"admitted\"], ax=ax[i], palette={\"0\": \"blue\", \"1\": \"orange\"})\n"
     ]
    },
    {
     "data": {
      "image/png": "[encoded data removed]",
      "text/plain": [
       "<Figure size 1200x600 with 12 Axes>"
      ]
     },
     "metadata": {},
     "output_type": "display_data"
    }
   ],
   "source": [
    "# Plotting\n",
    "# get correct predictor columns\n",
    "columns = [\n",
    "    \"test_score\", \"ap\", \"avg_ap\", \"sat_subjects\", \n",
    "    \"gpa\", \"female\", \"minority\", \"international\",\n",
    "    \"sports\", \"harvard\", \"early_app\", \"alumni\",\n",
    "]\n",
    "college_train_predictors = college_train[columns]\n",
    "\n",
    "fig, ax = plt.subplots(3, 4, figsize=(12, 6))\n",
    "ax = ax.ravel()\n",
    "\n",
    "# plot each column against the target\n",
    "for i, col in enumerate(college_train_predictors.columns):\n",
    "    # check if categorical\n",
    "    if college_train_predictors[col].dtype == 'object' or college_train_predictors[col].nunique() < 10:\n",
    "        sns.countplot(data=college_train, x=col, hue=\"admitted\", ax=ax[i])\n",
    "    else: \n",
    "        sns.stripplot(data=college_train_predictors, y=col, x=college_train[\"admitted\"], ax=ax[i], palette={\"0\": \"blue\", \"1\": \"orange\"})\n",
    "    ax[i].set_title(col)\n",
    "    plt.tight_layout()"
   ]
  },
  {
   "cell_type": "markdown",
   "metadata": {
    "cell_id": "0a790850-87c6-4f46-b89e-048a2295c92b",
    "colab_type": "text",
    "deletable": false,
    "editable": false,
    "id": "IGFtXJmQap2q"
   },
   "source": [
    "<!-- END QUESTION -->\n",
    "\n",
    "<!-- BEGIN QUESTION -->\n",
    "\n",
    "<div class='exercise-r'>\n",
    "\n",
    "**1.3** Based on the visuals above, which predictor seems to have the most potential for predicting `admitted`? Why do you think this it the best potential single predictor?\n",
    "    \n",
    "</div>"
   ]
  },
  {
   "cell_type": "markdown",
   "metadata": {},
   "source": [
    "<div class=\"highlight-box\" style=\"border: 1px solid #ffcccb; background-color: #ffcccb; height: 5px;\"></div>"
   ]
  },
  {
   "cell_type": "markdown",
   "metadata": {},
   "source": [
    "test_score seems to have the most potential for predicting admitted. I believe this because the continuous variable provides data for models like logistic regression to create a decision boundary based on the linear term in the logistic regression formula. Additionally, the data for this plot seems more correlated with admission than other metrics with higher variance like GPA or average_ap."
   ]
  },
  {
   "cell_type": "markdown",
   "metadata": {},
   "source": [
    "<div class=\"highlight-box\" style=\"border: 1px solid #ffcccb; background-color: #ffcccb; height: 5px;\"></div>"
   ]
  },
  {
   "cell_type": "markdown",
   "metadata": {
    "cell_id": "0a790850-87c6-4f46-b89e-048a2295c92b",
    "colab_type": "text",
    "deletable": false,
    "editable": false,
    "id": "IGFtXJmQap2q"
   },
   "source": [
    "<!-- END QUESTION -->\n",
    "\n",
    "<!-- BEGIN QUESTION -->\n",
    "\n",
    "<div class='exercise-r'>\n",
    "    \n",
    "**Q1.4** Fit a logistic regression to predict `admitted` from `harvard` (call it `logit1_4`).  \n",
    "- Store the coefficient and intercept in `logit1_4_coef` and `logit1_4_intercept`. Interpret these values.\n",
    "- Use $\\LaTeX$ to demonstrate how you can use these coefficient values to calculate the estimated probabilities of getting into each school.\n",
    "- Store the results of the above calculation in `p_harvard` and `p_yale`. \n",
    "- Which school is easier to get into according to this model?\n",
    "\n",
    "**IMPORTANT:** \n",
    "- Remember, all models in this assignment should be **unregularized** unless you are specifically asked to use regularization for a particular model.\n",
    "- Use `random_state = 109` for all of your `LogisticRegression` and `LogisticRegressionCV` models in this notebook.\n",
    "</div>"
   ]
  },
  {
   "cell_type": "code",
   "execution_count": 11,
   "metadata": {
    "tags": []
   },
   "outputs": [
    {
     "name": "stdout",
     "output_type": "stream",
     "text": [
      "Logistic Regression Coefficients: 0.2512\n",
      "Logistic Regression Intercept: -1.1280\n"
     ]
    }
   ],
   "source": [
    "# parse X and y into admitted and harvard\n",
    "x_train = college_train_predictors['harvard'] \n",
    "y_train = college_train['admitted']\n",
    "\n",
    "# Fit logistic regression model without regularization\n",
    "logit1_4 = LogisticRegression(random_state=109,max_iter=1000, penalty=None).fit(x_train.values.reshape(-1, 1), y_train)\n",
    "\n",
    "# Identify and report coefficients\n",
    "logit1_4_coef = logit1_4.coef_[0][0]\n",
    "logit1_4_intercept = logit1_4.intercept_[0]\n",
    "\n",
    "print(f\"Logistic Regression Coefficients: {logit1_4_coef:.4f}\")\n",
    "print(f\"Logistic Regression Intercept: {logit1_4_intercept:.4f}\")"
   ]
  },
  {
   "cell_type": "markdown",
   "metadata": {},
   "source": [
    "## Use $\\LaTeX$ to demonstrate how you can use these coefficient values to calculate the estimated probabilities of getting into each school.\n",
    "\n"
   ]
  },
  {
   "cell_type": "code",
   "execution_count": 12,
   "metadata": {},
   "outputs": [],
   "source": [
    "# Calculate and report probabilities\n",
    "p_harvard = 1 / (1 + np.exp(-(logit1_4_intercept + 1 * logit1_4_coef)))\n",
    "\n",
    "p_yale = 1 / (1 + np.exp(-(logit1_4_intercept + 0 * logit1_4_coef)))"
   ]
  },
  {
   "cell_type": "code",
   "execution_count": 13,
   "metadata": {
    "deletable": false,
    "editable": false
   },
   "outputs": [
    {
     "name": "stdout",
     "output_type": "stream",
     "text": [
      "The coefficient for the 'logit1_4' model's only predictor 'harvard' is 0.2512 and the intercept is -1.1280\n",
      "\n",
      "Estimated probability of acceptance for Harvard: 0.2938\n",
      "Estimated probability of acceptance for Yale: 0.2445\n"
     ]
    }
   ],
   "source": [
    "print(\n",
    "    \"The coefficient for the 'logit1_4' model's only predictor 'harvard' \"\n",
    "    \"is {:.4f} and the intercept is {:.4f}\\n\".format(\n",
    "        logit1_4_coef, logit1_4_intercept\n",
    "    )\n",
    ")\n",
    "\n",
    "print(\n",
    "    \"Estimated probability of acceptance for Harvard: {:.4f}\"\n",
    "    .format(p_harvard.item())\n",
    ")\n",
    "print(\n",
    "    \"Estimated probability of acceptance for Yale: {:.4f}\"\n",
    "    .format(p_yale.item())\n",
    ")"
   ]
  },
  {
   "cell_type": "markdown",
   "metadata": {},
   "source": [
    "<div class=\"highlight-box\" style=\"border: 1px solid #ffcccb; background-color: #ffcccb; height: 5px;\"></div>"
   ]
  },
  {
   "cell_type": "markdown",
   "metadata": {},
   "source": [
    "$$\n",
    "P(Y = 1 \\mid x) = \\frac{1}{1 + e^{-(-1.1262 + 0.2478x)}}\n",
    "$$\n",
    "\n",
    "The probability that \\( Y = 1 \\), based on the input \\( x \\), using the parameters from the logistic regression model."
   ]
  },
  {
   "cell_type": "markdown",
   "metadata": {},
   "source": [
    "<div class=\"highlight-box\" style=\"border: 1px solid #ffcccb; background-color: #ffcccb; height: 5px;\"></div>"
   ]
  },
  {
   "cell_type": "code",
   "execution_count": 14,
   "metadata": {
    "deletable": false,
    "editable": false
   },
   "outputs": [
    {
     "data": {
      "text/html": [
       "<p><strong><pre style='display: inline;'>q1.4</pre></strong> passed! 🍀</p>"
      ],
      "text/plain": [
       "q1.4 results: All test cases passed!"
      ]
     },
     "execution_count": 14,
     "metadata": {},
     "output_type": "execute_result"
    }
   ],
   "source": [
    "grader.check(\"q1.4\")"
   ]
  },
  {
   "cell_type": "markdown",
   "metadata": {
    "cell_id": "0a790850-87c6-4f46-b89e-048a2295c92b",
    "colab_type": "text",
    "deletable": false,
    "editable": false,
    "id": "IGFtXJmQap2q"
   },
   "source": [
    "<!-- END QUESTION -->\n",
    "\n",
    "<!-- BEGIN QUESTION -->\n",
    "\n",
    "<div class='exercise-r'>\n",
    "\n",
    "**Q1.5** Create and display a [contingency table](https://en.wikipedia.org/wiki/Contingency_table) between `admitted` and `harvard`.  Use this table to calculate and confirm the coefficient estimates in the `logit1_4` model (both the intercept and slope). Show this calculation using $\\LaTeX$ in a markdown cell.\n",
    "    \n",
    "**Hint:** The Pandas [crosstab](https://pandas.pydata.org/pandas-docs/stable/reference/api/pandas.crosstab.html) method may be helpful here.\n",
    "\n",
    "</div>"
   ]
  },
  {
   "cell_type": "markdown",
   "metadata": {},
   "source": [
    "<div class=\"highlight-box\" style=\"border: 1px solid #ffcccb; background-color: #ffcccb; height: 5px;\"></div>"
   ]
  },
  {
   "cell_type": "markdown",
   "metadata": {},
   "source": [
    "### Contingency Table\n",
    "\n",
    "\\[\n",
    "\\begin{array}{c|cc}\n",
    " & \\text{Harvard} & \\text{Yale} \\\\\n",
    "\\hline\n",
    "\\text{Admitted} & \\text{admitted\\_harvard} & \\text{admitted\\_yale} \\\\\n",
    "\\text{Not Admitted} & \\text{not\\_admitted\\_harvard} & \\text{not\\_admitted\\_yale} \\\\\n",
    "\\end{array}\n",
    "\\]\n",
    "\n",
    "### Calculation of Coefficient Estimates\n",
    "\n",
    "The log odds for Harvard and Yale:\n",
    "\n",
    "$$\n",
    "\\text{log\\_odds\\_harvard} = \\log \\left( \\frac{\\text{admitted\\_harvard}}{\\text{not\\_admitted\\_harvard}} \\right)\n",
    "$$\n",
    "\n",
    "$$\n",
    "\\text{log\\_odds\\_yale} = \\log \\left( \\frac{\\text{admitted\\_yale}}{\\text{not\\_admitted\\_yale}} \\right)\n",
    "$$\n",
    "\n",
    "The slope and intercept:\n",
    "\n",
    "$$\n",
    "\\text{Slope} = \\text{log\\_odds\\_harvard} - \\text{log\\_odds\\_yale}\n",
    "$$\n",
    "\n",
    "$$\n",
    "\\text{Intercept} = \\text{log\\_odds\\_yale}\n",
    "$$\n"
   ]
  },
  {
   "cell_type": "markdown",
   "metadata": {},
   "source": [
    "<div class=\"highlight-box\" style=\"border: 1px solid #ffcccb; background-color: #ffcccb; height: 5px;\"></div>"
   ]
  },
  {
   "cell_type": "code",
   "execution_count": 15,
   "metadata": {
    "tags": []
   },
   "outputs": [
    {
     "data": {
      "text/html": [
       "<div>\n",
       "<style scoped>\n",
       "    .dataframe tbody tr th:only-of-type {\n",
       "        vertical-align: middle;\n",
       "    }\n",
       "\n",
       "    .dataframe tbody tr th {\n",
       "        vertical-align: top;\n",
       "    }\n",
       "\n",
       "    .dataframe thead th {\n",
       "        text-align: right;\n",
       "    }\n",
       "</style>\n",
       "<table border=\"1\" class=\"dataframe\">\n",
       "  <thead>\n",
       "    <tr style=\"text-align: right;\">\n",
       "      <th>harvard</th>\n",
       "      <th>0</th>\n",
       "      <th>1</th>\n",
       "    </tr>\n",
       "    <tr>\n",
       "      <th>admitted</th>\n",
       "      <th></th>\n",
       "      <th></th>\n",
       "    </tr>\n",
       "  </thead>\n",
       "  <tbody>\n",
       "    <tr>\n",
       "      <th>0</th>\n",
       "      <td>544</td>\n",
       "      <td>548</td>\n",
       "    </tr>\n",
       "    <tr>\n",
       "      <th>1</th>\n",
       "      <td>176</td>\n",
       "      <td>228</td>\n",
       "    </tr>\n",
       "  </tbody>\n",
       "</table>\n",
       "</div>"
      ],
      "text/plain": [
       "harvard     0    1\n",
       "admitted          \n",
       "0         544  548\n",
       "1         176  228"
      ]
     },
     "execution_count": 15,
     "metadata": {},
     "output_type": "execute_result"
    }
   ],
   "source": [
    "# create contingency table\n",
    "pd.crosstab(college_train['admitted'], college_train['harvard'])\n"
   ]
  },
  {
   "cell_type": "code",
   "execution_count": 16,
   "metadata": {},
   "outputs": [
    {
     "name": "stdout",
     "output_type": "stream",
     "text": [
      "The coefficient for the 'logit1_4' model's only predictor 'harvard' is 0.2515 and the intercept is -1.1285\n",
      "\n"
     ]
    }
   ],
   "source": [
    "# confirm slope and intercept based on Latex calculation above\n",
    "log_odds_harvard = np.log(228/548)\n",
    "log_odds_yale = np.log(176/544)\n",
    "\n",
    "slope = log_odds_harvard - log_odds_yale\n",
    "intercept = log_odds_yale\n",
    "\n",
    "print(\n",
    "    \"The coefficient for the 'logit1_4' model's only predictor 'harvard' \"\n",
    "    \"is {:.4f} and the intercept is {:.4f}\\n\".format(\n",
    "        slope, intercept\n",
    "    )\n",
    ")"
   ]
  },
  {
   "cell_type": "markdown",
   "metadata": {
    "cell_id": "0a790850-87c6-4f46-b89e-048a2295c92b",
    "colab_type": "text",
    "deletable": false,
    "editable": false,
    "id": "IGFtXJmQap2q"
   },
   "source": [
    "<!-- END QUESTION -->\n",
    "\n",
    "<!-- BEGIN QUESTION -->\n",
    "\n",
    "<div class='exercise-r'>\n",
    "\n",
    "**Q1.6** Compare the estimated probabilities of being admitted into the schools to the overall acceptance rate (as seen [here](https://www.ivycoach.com/2022-ivy-league-admissions-statistics/)).  Why may what you've observed in this comparison be the case?\n",
    "    \n",
    "</div>"
   ]
  },
  {
   "cell_type": "markdown",
   "metadata": {},
   "source": [
    "<div class=\"highlight-box\" style=\"border: 1px solid #ffcccb; background-color: #ffcccb; height: 5px;\"></div>"
   ]
  },
  {
   "cell_type": "markdown",
   "metadata": {},
   "source": [
    "The probabilites of being admitted into both schools based on this dataset is much higher than the acceptance rate in 2022. \n",
    "\n",
    "The data are provided in the file `data/college_admissions.csv` and were scraped in 2022 from [collegedata.com](https://www.collegedata.com/) (where applicants volunteer to share their information). The statement about the data implies that there could be evident sampling bias. For instance, the applicants who are more likely to volunteer to share their information have more impressive statistics. As follows, the biased sample has a higher acceptance rate for both schools."
   ]
  },
  {
   "cell_type": "markdown",
   "metadata": {},
   "source": [
    "<div class=\"highlight-box\" style=\"border: 1px solid #ffcccb; background-color: #ffcccb; height: 5px;\"></div>"
   ]
  },
  {
   "cell_type": "markdown",
   "metadata": {
    "deletable": false,
    "editable": false
   },
   "source": [
    "<!-- END QUESTION -->\n",
    "\n",
    "---"
   ]
  },
  {
   "cell_type": "markdown",
   "metadata": {},
   "source": [
    "<a id=\"part2\"></a>\n",
    "\n",
    "## <div class='exercise'>Question 2: Interpretable modeling</div>\n",
    "\n",
    "[Return to contents](#contents)"
   ]
  },
  {
   "cell_type": "markdown",
   "metadata": {
    "cell_id": "0a790850-87c6-4f46-b89e-048a2295c92b",
    "colab_type": "text",
    "deletable": false,
    "editable": false,
    "id": "IGFtXJmQap2q"
   },
   "source": [
    "<div class='exercise-r'>\n",
    "\n",
    "**Q2.1** \n",
    "    \n",
    "- Fit a logistic regression model to predict `admitted` from `test_score` alone. Call it `logit2_1`.\n",
    "- Store the learned parameters in `logit2_1_intercept` and `logit2_1_coef_test_score`. \n",
    "- Store the train accuracy and mean 10-fold cross-validation accuracy in `acc_train_logit2_1` and `acc_cv_logit2_1`.\n",
    "\n",
    "**Note:** The coefficients and train accuracies should come from a model fit on all the training data. To calculate the mean 10-fold cross-validation accuracy, use `cross_val_score`. This should be the strategy used throughout the notebook except when using `LogisticRegressionCV` in later questions (since this model already gives you CV scores \"for free\"). Will will assume 10 folds whenever we cross-validate in this notebook.\n",
    "</div>"
   ]
  },
  {
   "cell_type": "code",
   "execution_count": 17,
   "metadata": {
    "tags": []
   },
   "outputs": [],
   "source": [
    "# create x_train\n",
    "x_train = college_train_predictors['test_score'].values.reshape(-1,1)\n",
    "\n",
    "logit2_1 = LogisticRegression(random_state=109).fit(x_train, y_train)\n",
    "\n",
    "logit2_1_intercept = logit2_1.intercept_[0]\n",
    "logit2_1_coef_test_score = logit2_1.coef_[0][0]\n",
    "\n",
    "acc_train_logit2_1 = accuracy_score(y_train, logit2_1.predict(x_train))\n",
    "acc_cv_logit2_1 = cross_val_score(logit2_1, x_train, y_train, cv=10).mean()"
   ]
  },
  {
   "cell_type": "code",
   "execution_count": 18,
   "metadata": {
    "deletable": false,
    "editable": false
   },
   "outputs": [
    {
     "name": "stdout",
     "output_type": "stream",
     "text": [
      "The intercept and coefficient for the 'logit2_1' model are:\n",
      "\tintercept           -10.5474\n",
      "\ttest_score          0.0043\n",
      "\n",
      "The classification accuracies for 'logit2_1' are:\n",
      "\n",
      "\tTrain\t0.7299\n",
      "\tCV\t0.7300\n"
     ]
    }
   ],
   "source": [
    "print(\"The intercept and coefficient for the 'logit2_1' model are:\")\n",
    "\n",
    "print(\"\\t{:<20}{:.4f}\".format('intercept', logit2_1_intercept))\n",
    "print(\"\\t{:<20}{:.4f}\".format('test_score', logit2_1_coef_test_score))\n",
    "\n",
    "print(\n",
    "    \"\\nThe classification accuracies for 'logit2_1' are:\"\n",
    "    \"\\n\\n\\tTrain\\t{:.4f}\\n\\tCV\\t{:.4f}\".format(\n",
    "        acc_train_logit2_1, acc_cv_logit2_1\n",
    "    )\n",
    ")"
   ]
  },
  {
   "cell_type": "code",
   "execution_count": 19,
   "metadata": {
    "deletable": false,
    "editable": false
   },
   "outputs": [
    {
     "data": {
      "text/html": [
       "<p><strong><pre style='display: inline;'>q2.1</pre></strong> passed! 🌈</p>"
      ],
      "text/plain": [
       "q2.1 results: All test cases passed!"
      ]
     },
     "execution_count": 19,
     "metadata": {},
     "output_type": "execute_result"
    }
   ],
   "source": [
    "grader.check(\"q2.1\")"
   ]
  },
  {
   "cell_type": "markdown",
   "metadata": {
    "cell_id": "0a790850-87c6-4f46-b89e-048a2295c92b",
    "colab_type": "text",
    "deletable": false,
    "editable": false,
    "id": "IGFtXJmQap2q"
   },
   "source": [
    "<div class='exercise-r'>\n",
    "\n",
    "**Q2.2**\n",
    "    \n",
    "- What is the estimated probability of an applicant being admitted with a `test_score` of 2250? Store this in `prob_test_2250`.\n",
    "- What about if they had a perfect test score of 2400? Store this in `prob_test_2400`.\n",
    "- What test score would be needed to have a 50-50 chance (i.e. 0.5 probability) of being admitted? Store this in `test_50_50`.\n",
    "    \n",
    "</div>"
   ]
  },
  {
   "cell_type": "code",
   "execution_count": 20,
   "metadata": {
    "tags": []
   },
   "outputs": [],
   "source": [
    "prob_test_2250 = logit2_1.predict_proba([[2250]])[0][1]\n",
    "prob_test_2400 = logit2_1.predict_proba([[2400]])[0][1]\n",
    "\n",
    "# because exp(-(intercept + coef * x)) = 1\n",
    "test_50_50 = - logit2_1.intercept_[0] / logit2_1.coef_[0][0]"
   ]
  },
  {
   "cell_type": "code",
   "execution_count": 21,
   "metadata": {
    "deletable": false,
    "editable": false
   },
   "outputs": [
    {
     "name": "stdout",
     "output_type": "stream",
     "text": [
      "The estimated chances of an applicant being admitted with the following two 'test' scores:\n",
      "\n",
      "\tscore\tprobabilities\n",
      "\t2250\t0.3019\n",
      "\t2400\t0.4525\n",
      "\n",
      "The test score required to have a 50-50 chance of being admitted is approximately:\n",
      "\n",
      "\t2444.20\n"
     ]
    }
   ],
   "source": [
    "print(\n",
    "    \"The estimated chances of an applicant being admitted with \"\n",
    "    \"the following two 'test' scores:\\n\\n\\tscore\\tprobabilities\"\n",
    "    \"\\n\\t2250\\t{:.4f}\\n\\t2400\\t{:.4f}\\n\"\n",
    "    .format(prob_test_2250, prob_test_2400)\n",
    ")\n",
    "\n",
    "print(\n",
    "    \"The test score required to have a 50-50 chance of being \"\n",
    "    \"admitted is approximately:\\n\\n\\t{:.2f}\"\n",
    "    .format(test_50_50)\n",
    ")"
   ]
  },
  {
   "cell_type": "code",
   "execution_count": 22,
   "metadata": {
    "deletable": false,
    "editable": false
   },
   "outputs": [
    {
     "data": {
      "text/html": [
       "<p><strong><pre style='display: inline;'>q2.2</pre></strong> passed! 💯</p>"
      ],
      "text/plain": [
       "q2.2 results: All test cases passed!"
      ]
     },
     "execution_count": 22,
     "metadata": {},
     "output_type": "execute_result"
    }
   ],
   "source": [
    "grader.check(\"q2.2\")"
   ]
  },
  {
   "cell_type": "markdown",
   "metadata": {
    "cell_id": "0a790850-87c6-4f46-b89e-048a2295c92b",
    "colab_type": "text",
    "deletable": false,
    "editable": false,
    "id": "IGFtXJmQap2q"
   },
   "source": [
    "<div class='exercise-r'>\n",
    "\n",
    "**Q2.3** Fit a logistic regression model to predict `admitted` from `test_score` and `avg_ap` (call it `logit2_3`).  Store the train and mean cv accuracies calculated as before in `acc_train_logit2_3` and `acc_cv_logit2_3`. Then use the provided code to print out the coefficient estimates along with the accuracy scores.\n",
    "    \n",
    "</div>"
   ]
  },
  {
   "cell_type": "code",
   "execution_count": 23,
   "metadata": {
    "tags": []
   },
   "outputs": [],
   "source": [
    "x_train = college_train[['test_score', 'avg_ap']].values\n",
    "\n",
    "logit2_3 = LogisticRegression(penalty=None, max_iter=1000,random_state=109).fit(x_train, y_train)\n",
    "\n",
    "logit2_3_intercept = logit2_3.intercept_[0]\n",
    "logit2_3_coef_test_score = logit2_3.coef_[0][0]\n",
    "logit2_3_coef_avg_ap = logit2_3.coef_[0][1]\n",
    "\n",
    "acc_train_logit2_3 = accuracy_score(y_train, logit2_3.predict(x_train))\n",
    "acc_cv_logit2_3 = cross_val_score(logit2_3, x_train, y_train, cv=10).mean()"
   ]
  },
  {
   "cell_type": "code",
   "execution_count": 24,
   "metadata": {
    "deletable": false,
    "editable": false
   },
   "outputs": [
    {
     "name": "stdout",
     "output_type": "stream",
     "text": [
      "The intercept and coefficients for the 'logit2_3' model are:\n",
      "\tintercept           -10.9086\n",
      "\ttest                0.0046\n",
      "\tavg_ap              -0.0723\n",
      "\n",
      "The classification accuracies for 'logit2_3' are:\n",
      "\n",
      "\tTrain\t0.7306\n",
      "\tCV\t0.7299\n"
     ]
    }
   ],
   "source": [
    "# Print the results of logit2_3\n",
    "print(\"The intercept and coefficients for the 'logit2_3' model are:\")\n",
    "print(\"\\t{:<20}{:.4f}\".format('intercept', logit2_3_intercept))\n",
    "print(\"\\t{:<20}{:.4f}\".format('test', logit2_3_coef_test_score))\n",
    "print(\"\\t{:<20}{:.4f}\".format('avg_ap', logit2_3_coef_avg_ap))\n",
    "\n",
    "print(\n",
    "    \"\\nThe classification accuracies for 'logit2_3' are:\\n\\n\\tTrain\\t{:.4f}\\n\\tCV\\t{:.4f}\"\n",
    "    .format(acc_train_logit2_3, acc_cv_logit2_3)\n",
    ")"
   ]
  },
  {
   "cell_type": "code",
   "execution_count": 25,
   "metadata": {
    "deletable": false,
    "editable": false
   },
   "outputs": [
    {
     "data": {
      "text/html": [
       "<p><strong><pre style='display: inline;'>q2.3</pre></strong> passed! ✨</p>"
      ],
      "text/plain": [
       "q2.3 results: All test cases passed!"
      ]
     },
     "execution_count": 25,
     "metadata": {},
     "output_type": "execute_result"
    }
   ],
   "source": [
    "grader.check(\"q2.3\")"
   ]
  },
  {
   "cell_type": "markdown",
   "metadata": {
    "cell_id": "0a790850-87c6-4f46-b89e-048a2295c92b",
    "colab_type": "text",
    "deletable": false,
    "editable": false,
    "id": "IGFtXJmQap2q"
   },
   "source": [
    "<!-- BEGIN QUESTION -->\n",
    "\n",
    "<div class='exercise-r'>\n",
    "\n",
    "**Q2.4** Interpret the coefficient estimates for both predictors in `logit2_3` and compare the coefficient estimate for `test_score` to the one from `logit2_1`.  Why has this estimate changed?\n",
    "\n",
    "You should inspect the relationship between `test_score` and `avg_ap` to help get a better sense for what might be happening here.\n",
    "\n",
    "</div>"
   ]
  },
  {
   "cell_type": "code",
   "execution_count": 26,
   "metadata": {
    "deletable": false,
    "editable": false
   },
   "outputs": [
    {
     "name": "stdout",
     "output_type": "stream",
     "text": [
      "The intercept and coefficient for the 'logit2_1' model are:\n",
      "\tintercept           -10.5474\n",
      "\ttest_score          0.0043\n",
      "The intercept and coefficients for the 'logit2_3' model are:\n",
      "\tintercept           -10.9086\n",
      "\ttest_score          0.0046\n",
      "\tavg_ap              -0.0723\n"
     ]
    }
   ],
   "source": [
    "# Print the parameters of the last 2 models\n",
    "print(\"The intercept and coefficient for the 'logit2_1' model are:\")\n",
    "\n",
    "print(\"\\t{:<20}{:.4f}\".format('intercept', logit2_1_intercept))\n",
    "print(\"\\t{:<20}{:.4f}\".format('test_score', logit2_1_coef_test_score))\n",
    "\n",
    "print(\"The intercept and coefficients for the 'logit2_3' model are:\")\n",
    "print(\"\\t{:<20}{:.4f}\".format('intercept', logit2_3_intercept))\n",
    "print(\"\\t{:<20}{:.4f}\".format('test_score', logit2_3_coef_test_score))\n",
    "print(\"\\t{:<20}{:.4f}\".format('avg_ap', logit2_3_coef_avg_ap))"
   ]
  },
  {
   "cell_type": "markdown",
   "metadata": {},
   "source": [
    "<div class=\"highlight-box\" style=\"border: 1px solid #ffcccb; background-color: #ffcccb; height: 5px;\"></div>"
   ]
  },
  {
   "cell_type": "markdown",
   "metadata": {},
   "source": [
    "test_score and avg_ap are clearly collinear based on the below plot. The intercept represents the log odds of being admitted when both independent variables are 0. The avg_ap is negative in logit2_3 because test_score has a higher weight on the resulting outcome. This problem could be reduced by scaling the data, which we will do later. As follows, the model mistakenly associates avg_ap with a decrease in admission due to multicollinearity between predictors."
   ]
  },
  {
   "cell_type": "markdown",
   "metadata": {},
   "source": [
    "<div class=\"highlight-box\" style=\"border: 1px solid #ffcccb; background-color: #ffcccb; height: 5px;\"></div>"
   ]
  },
  {
   "cell_type": "code",
   "execution_count": 27,
   "metadata": {
    "tags": []
   },
   "outputs": [
    {
     "data": {
      "text/plain": [
       "<Axes: xlabel='test_score', ylabel='avg_ap'>"
      ]
     },
     "execution_count": 27,
     "metadata": {},
     "output_type": "execute_result"
    },
    {
     "data": {
      "image/png": "[encoded data removed]",
      "text/plain": [
       "<Figure size 640x480 with 1 Axes>"
      ]
     },
     "metadata": {},
     "output_type": "display_data"
    }
   ],
   "source": [
    "# plot correlational relationship between `test_score` and `avg_ap` to help get a better sense for what might be happening here\n",
    "sns.scatterplot(data=college_train, x='test_score', y='avg_ap', hue='admitted')"
   ]
  },
  {
   "cell_type": "markdown",
   "metadata": {
    "cell_id": "0a790850-87c6-4f46-b89e-048a2295c92b",
    "colab_type": "text",
    "deletable": false,
    "editable": false,
    "id": "IGFtXJmQap2q"
   },
   "source": [
    "<!-- END QUESTION -->\n",
    "\n",
    "<!-- BEGIN QUESTION -->\n",
    "\n",
    "<div class='exercise-r'>\n",
    "\n",
    "**Q2.5** Interpret and compare the train and cv accuracies for the two models, `logit2_1` and `logit2_3`.  Explain why these accuracies are the same or different, and what about the data makes these accuracies so similar or different.\n",
    "\n",
    "</div>"
   ]
  },
  {
   "cell_type": "code",
   "execution_count": 28,
   "metadata": {
    "deletable": false,
    "editable": false
   },
   "outputs": [
    {
     "name": "stdout",
     "output_type": "stream",
     "text": [
      "\n",
      "The classification accuracies for 'logit2_1' are:\n",
      "\n",
      "\tTrain\t0.7299\n",
      "\tCV\t0.7300\n",
      "\n",
      "The classification accuracies for 'logit2_3' are:\n",
      "\n",
      "\tTrain\t0.7306\n",
      "\tCV\t0.7299\n"
     ]
    }
   ],
   "source": [
    "# Display accuracies of last 2 models\n",
    "print(\n",
    "    \"\\nThe classification accuracies for 'logit2_1' are:\\n\\n\\tTrain\\t{:.4f}\\n\\tCV\\t{:.4f}\"\n",
    "    .format(acc_train_logit2_1, acc_cv_logit2_1)\n",
    ")\n",
    "print(\n",
    "    \"\\nThe classification accuracies for 'logit2_3' are:\\n\\n\\tTrain\\t{:.4f}\\n\\tCV\\t{:.4f}\"\n",
    "    .format(acc_train_logit2_3, acc_cv_logit2_3)\n",
    ")"
   ]
  },
  {
   "cell_type": "markdown",
   "metadata": {},
   "source": [
    "<div class=\"highlight-box\" style=\"border: 1px solid #ffcccb; background-color: #ffcccb; height: 5px;\"></div>"
   ]
  },
  {
   "cell_type": "markdown",
   "metadata": {},
   "source": [
    "These accuracies are very similar because the data were not scaled during preprocessing. Thus, logistic regression puts a much heavier weight on 'test_score' which is higher in magnitude and thus has more higher variance in its values, leading to an increased effect on the response. As follows, logit2_3, which is only different from logit2_1 with the addition of the 'avg_ap' predictor, is fundamentally very similar to logit2_1 since 'avg_ap' is just collinear noise without scaling."
   ]
  },
  {
   "cell_type": "markdown",
   "metadata": {},
   "source": [
    "<div class=\"highlight-box\" style=\"border: 1px solid #ffcccb; background-color: #ffcccb; height: 5px;\"></div>"
   ]
  },
  {
   "cell_type": "markdown",
   "metadata": {
    "deletable": false,
    "editable": false
   },
   "source": [
    "<!-- END QUESTION -->\n",
    "\n",
    "---"
   ]
  },
  {
   "cell_type": "markdown",
   "metadata": {},
   "source": [
    "<a id=\"part3\"></a>\n",
    "\n",
    "## <div class='exercise'>Question 3: Harvard and Yale?</div>\n",
    "\n",
    "[Return to contents](#contents)"
   ]
  },
  {
   "cell_type": "markdown",
   "metadata": {
    "cell_id": "0a790850-87c6-4f46-b89e-048a2295c92b",
    "colab_type": "text",
    "deletable": false,
    "editable": false,
    "id": "IGFtXJmQap2q"
   },
   "source": [
    "<!-- BEGIN QUESTION -->\n",
    "\n",
    "<div class='exercise-r'>\n",
    "\n",
    "**Q3.1**\n",
    "- Fit a logistic regression model (call it `logit3_1`) to predict `admitted` from 7 predictors: `[\"harvard\", \"test_score\", \"ap\", \"avg_ap\", \"gpa\", \"female\", \"minority\"]`.\n",
    "- Store the train and mean cv accuracies in `acc_train_logit3_1` and `acc_cv_logit3_1`.\n",
    "- Interpret the coefficients for the binary predictors in this model.\n",
    "\n",
    "**Hint:**\n",
    "- If you have convergence warnings, increasing the maximum number of iterations will likely solve this issue.\n",
    "    \n",
    "</div>"
   ]
  },
  {
   "cell_type": "code",
   "execution_count": 29,
   "metadata": {
    "deletable": false,
    "editable": false
   },
   "outputs": [],
   "source": [
    "# Print statements below assume predictors used in this order\n",
    "logit3_1_predictors = [\"harvard\", \"test_score\", \"ap\", \"avg_ap\", \"gpa\", \"female\", \"minority\"]\n"
   ]
  },
  {
   "cell_type": "markdown",
   "metadata": {},
   "source": [
    "<div class=\"highlight-box\" style=\"border: 1px solid #ffcccb; background-color: #ffcccb; height: 5px;\"></div>"
   ]
  },
  {
   "cell_type": "markdown",
   "metadata": {},
   "source": [
    "Students applying to Harvard have a 0.2571 higher log-odds of admission than students applying to Yale holding the other predictors constant. Female students have a 0.0490 lower log-odds of admission than male students holding the other predictors constant. Lastly, minorities have a 0.7712 higher log-odds of admission than non-minorities."
   ]
  },
  {
   "cell_type": "markdown",
   "metadata": {},
   "source": [
    "<div class=\"highlight-box\" style=\"border: 1px solid #ffcccb; background-color: #ffcccb; height: 5px;\"></div>"
   ]
  },
  {
   "cell_type": "code",
   "execution_count": 30,
   "metadata": {
    "scrolled": true,
    "tags": []
   },
   "outputs": [],
   "source": [
    "x_train = college_train[logit3_1_predictors]\n",
    "\n",
    "logit3_1 = LogisticRegression(penalty=None, random_state=109, max_iter=1000).fit(x_train, y_train)\n",
    "\n",
    "acc_train_logit3_1 = accuracy_score(y_train, logit3_1.predict(x_train))\n",
    "acc_cv_logit3_1 = cross_val_score(logit3_1, x_train, y_train, cv=10).mean()\n"
   ]
  },
  {
   "cell_type": "code",
   "execution_count": 31,
   "metadata": {
    "scrolled": true,
    "tags": []
   },
   "outputs": [
    {
     "name": "stdout",
     "output_type": "stream",
     "text": [
      "The intercept and coefficients for the 'logit3_1' model are:\n",
      "\n",
      "\tintercept           -13.2402\n",
      "\tharvard             0.2571\n",
      "\ttest_score          0.0052\n",
      "\tap                  -0.0485\n",
      "\tavg_ap              -0.0304\n",
      "\tgpa                 0.2135\n",
      "\tfemale              -0.0490\n",
      "\tminority            0.7712\n",
      "\n",
      "The classification accuracies for 'logit3_1' are:\n",
      "\n",
      "\tTrain\t0.7353\n",
      "\tCV\t0.7300\n"
     ]
    }
   ],
   "source": [
    "# Grab model's intercept and coefs regardless of their shape\n",
    "# (which depends on how x and y were shaped)\n",
    "logit3_1_intercept = np.array(logit3_1.intercept_).flatten()[0]\n",
    "logit3_1_coefs = logit3_1.coef_.flatten()\n",
    "\n",
    "print(\n",
    "    \"The intercept and coefficients for the 'logit3_1' model are:\"\n",
    "    \"\\n\\n\\t{:<20}{:.4f}\".format(\n",
    "        \"intercept\", logit3_1_intercept\n",
    "    )\n",
    ")\n",
    "for predictor, coef in zip(logit3_1_predictors, logit3_1_coefs):\n",
    "    print(\"\\t{:<20}{:.4f}\".format(predictor, coef))\n",
    "\n",
    "print(\n",
    "    \"\\nThe classification accuracies for 'logit3_1' are:\"\n",
    "    \"\\n\\n\\tTrain\\t{:.4f}\\n\\tCV\\t{:.4f}\"\n",
    "    .format(acc_train_logit3_1, acc_cv_logit3_1)\n",
    ")"
   ]
  },
  {
   "cell_type": "code",
   "execution_count": 32,
   "metadata": {
    "deletable": false,
    "editable": false
   },
   "outputs": [
    {
     "data": {
      "text/html": [
       "<p><strong><pre style='display: inline;'>q3.1</pre></strong> passed! 🙌</p>"
      ],
      "text/plain": [
       "q3.1 results: All test cases passed!"
      ]
     },
     "execution_count": 32,
     "metadata": {},
     "output_type": "execute_result"
    }
   ],
   "source": [
    "grader.check(\"q3.1\")"
   ]
  },
  {
   "cell_type": "markdown",
   "metadata": {
    "cell_id": "0a790850-87c6-4f46-b89e-048a2295c92b",
    "colab_type": "text",
    "deletable": false,
    "editable": false,
    "id": "IGFtXJmQap2q"
   },
   "source": [
    "<!-- END QUESTION -->\n",
    "\n",
    "<div class='exercise-r'>\n",
    "\n",
    "**Q3.2** Fit a logistic regression model (call it `logit3_2`) to predict `admitted` from 3 predictors: `[\"harvard\", \"test_score\", \"ap\"]` along with the 2 interaction terms: `harvard` with `test_score` and `harvard` with `ap`. Name the columns for these interaction terms `harvard_test_score` and `harvard_ap`. Store the train and mean cv accuracies in `acc_train_logit3_2` and `acc_cv_logit3_2`.\n",
    "\n",
    "</div>"
   ]
  },
  {
   "cell_type": "code",
   "execution_count": 33,
   "metadata": {
    "deletable": false,
    "editable": false
   },
   "outputs": [],
   "source": [
    "# Print statement below assumes this order of predictors\n",
    "logit3_2_predictors = [\"harvard\", \"test_score\", \"ap\", \"harvard_test_score\", \"harvard_ap\"]"
   ]
  },
  {
   "cell_type": "code",
   "execution_count": 34,
   "metadata": {
    "tags": []
   },
   "outputs": [
    {
     "name": "stderr",
     "output_type": "stream",
     "text": [
      "C:\\Users\\khcod\\AppData\\Local\\Temp\\ipykernel_9376\\2402818795.py:2: SettingWithCopyWarning: \n",
      "A value is trying to be set on a copy of a slice from a DataFrame.\n",
      "Try using .loc[row_indexer,col_indexer] = value instead\n",
      "\n",
      "See the caveats in the documentation: https://pandas.pydata.org/pandas-docs/stable/user_guide/indexing.html#returning-a-view-versus-a-copy\n",
      "  college_train_predictors.loc[:, \"harvard_test_score\"] = college_train_predictors[\"harvard\"] * college_train_predictors[\"test_score\"]\n",
      "C:\\Users\\khcod\\AppData\\Local\\Temp\\ipykernel_9376\\2402818795.py:3: SettingWithCopyWarning: \n",
      "A value is trying to be set on a copy of a slice from a DataFrame.\n",
      "Try using .loc[row_indexer,col_indexer] = value instead\n",
      "\n",
      "See the caveats in the documentation: https://pandas.pydata.org/pandas-docs/stable/user_guide/indexing.html#returning-a-view-versus-a-copy\n",
      "  college_train_predictors.loc[:, \"harvard_ap\"] = college_train_predictors[\"harvard\"] * college_train_predictors[\"ap\"]\n"
     ]
    }
   ],
   "source": [
    "# your code here\n",
    "college_train_predictors.loc[:, \"harvard_test_score\"] = college_train_predictors[\"harvard\"] * college_train_predictors[\"test_score\"]\n",
    "college_train_predictors.loc[:, \"harvard_ap\"] = college_train_predictors[\"harvard\"] * college_train_predictors[\"ap\"]\n",
    "x_train = college_train_predictors[logit3_2_predictors]\n",
    "\n",
    "# fit Log Reg with 2 interaction terms\n",
    "logit3_2 = LogisticRegression(penalty=None,random_state=109, max_iter=1000).fit(x_train, y_train)\n",
    "acc_train_logit3_2 = accuracy_score(y_train, logit3_2.predict(x_train))\n",
    "acc_cv_logit3_2 = cross_val_score(logit3_2, x_train, y_train, cv=10).mean()"
   ]
  },
  {
   "cell_type": "code",
   "execution_count": 35,
   "metadata": {
    "tags": []
   },
   "outputs": [
    {
     "name": "stdout",
     "output_type": "stream",
     "text": [
      "The intercept and coefficients for the 'logit3_2' model are:\n",
      "\n",
      "\tintercept           -9.8464\n",
      "\tharvard             -2.0378\n",
      "\ttest_score          0.0039\n",
      "\tap                  0.0048\n",
      "\tharvard_test_score  0.0012\n",
      "\tharvard_ap          -0.1045\n",
      "\n",
      "The classification accuracies for 'logit3_2' are:\n",
      "\n",
      "\tTrain\t0.7360\n",
      "\tCV\t0.7353\n"
     ]
    }
   ],
   "source": [
    "# Print results of logit3_2\n",
    "logit3_2_intercept = np.array(logit3_2.intercept_).flatten()[0]\n",
    "logit3_2_coefs = logit3_2.coef_.flatten()\n",
    "\n",
    "print(\n",
    "    \"The intercept and coefficients for the 'logit3_2' model are:\"\n",
    "    \"\\n\\n\\t{:<20}{:.4f}\".format(\n",
    "        \"intercept\", logit3_2_intercept\n",
    "    )\n",
    ")\n",
    "\n",
    "for predictor, coef in zip(logit3_2_predictors, logit3_2_coefs):\n",
    "    print(\"\\t{:<20}{:.4f}\".format(predictor, coef))\n",
    "    \n",
    "print(\n",
    "    \"\\nThe classification accuracies for 'logit3_2' are:\"\n",
    "    \"\\n\\n\\tTrain\\t{:.4f}\\n\\tCV\\t{:.4f}\"\n",
    "    .format(acc_train_logit3_2, acc_cv_logit3_2)\n",
    ")"
   ]
  },
  {
   "cell_type": "code",
   "execution_count": 36,
   "metadata": {
    "deletable": false,
    "editable": false
   },
   "outputs": [
    {
     "data": {
      "text/html": [
       "<p><strong><pre style='display: inline;'>q3.2</pre></strong> passed! 🍀</p>"
      ],
      "text/plain": [
       "q3.2 results: All test cases passed!"
      ]
     },
     "execution_count": 36,
     "metadata": {},
     "output_type": "execute_result"
    }
   ],
   "source": [
    "grader.check(\"q3.2\")"
   ]
  },
  {
   "cell_type": "markdown",
   "metadata": {
    "cell_id": "0a790850-87c6-4f46-b89e-048a2295c92b",
    "colab_type": "text",
    "deletable": false,
    "editable": false,
    "id": "IGFtXJmQap2q"
   },
   "source": [
    "<!-- BEGIN QUESTION -->\n",
    "\n",
    "<div class='exercise-r'>\n",
    "\n",
    "**Q3.3** Simplify and write out mathematically the above model from Question 3.2 for 2 applicants:\n",
    "1. someone who is applying to Harvard\n",
    "2. someone who is applying to Yale (keep `test_score` and `ap` as the unknown $X$s).\n",
    "\n",
    "The basic framework given to you below may be helpful:\n",
    "\n",
    "$$ \\ln \\left( \\frac{P(Y=1)}{1-P(Y=1)} \\right) = \\beta_0 + \\beta_1 X_1 + \\dots + \\beta_p X_p $$\n",
    "    \n",
    "**NOTE:** All of your mathematical statements should be written out in your markdown cells using $\\LaTeX$. Show all your steps, not just the final result.\n",
    "\n",
    "</div>"
   ]
  },
  {
   "cell_type": "markdown",
   "metadata": {},
   "source": [
    "<div class=\"highlight-box\" style=\"border: 1px solid #ffcccb; background-color: #ffcccb; height: 5px;\"></div>"
   ]
  },
  {
   "cell_type": "markdown",
   "metadata": {},
   "source": [
    "The logistic regression model:\n",
    "\n",
    "$$ \\ln \\left( \\frac{P(Y=1)}{1-P(Y=1)} \\right) = \\beta_0 + \\beta_1 \\text{harvard} + \\beta_2 \\text{test\\_score} + \\beta_3 \\text{avg\\_ap} + \\beta_4 \\text{harvard\\_test\\_score} + \\beta_5 \\text{harvard\\_ap} \n",
    "$$\n",
    "\n",
    "#### Harvard Applicant\n",
    "\n",
    "interaction terms (since 'harvard' = 1):\n",
    "$$ \\text{harvard\\_test\\_score} = \\text{test\\_score} $$\n",
    "$$ \\text{harvard\\_ap} = \\text{avg\\_ap} $$\n",
    "\n",
    "$$ \\ln \\left( \\frac{P(Y=1 \\mid \\text{Harvard})}{1-P(Y=1 \\mid \\text{Harvard})} \\right) = \\beta_0 + \\beta_1 \\cdot 1 + \\beta_2 \\text{test\\_score} + \\beta_3 \\text{ap} + \\beta_4 \\text{test\\_score} + \\beta_5 \\text{ap} $$\n",
    "\n",
    "$$ \\ln \\left( \\frac{P(Y=1 \\mid \\text{Harvard})}{1-P(Y=1 \\mid \\text{Harvard})} \\right) = \\beta_0 + \\beta_1 + (\\beta_2 + \\beta_4) \\text{test\\_score} + (\\beta_3 + \\beta_5) \\text{ap} $$\n",
    "\n",
    "#### Yale Applicant\n",
    "\n",
    "'harvard' = 0\n",
    "\n",
    "interaction terms since 'harvard' = 0\n",
    "$$ \\text{harvard\\_test\\_score} = 0 $$\n",
    "$$ \\text{harvard\\_ap} = 0 $$\n",
    "\n",
    "\n",
    "$$ \\ln \\left( \\frac{P(Y=1 \\mid \\text{Yale})}{1-P(Y=1 \\mid \\text{Yale})} \\right) = \\beta_0 + \\beta_1 \\cdot 0 + \\beta_2 \\text{test\\_score} + \\beta_3 \\text{ap} + \\beta_4 \\cdot 0 + \\beta_5 \\cdot 0 $$\n",
    "\n",
    "$$ \\ln \\left( \\frac{P(Y=1 \\mid \\text{Yale})}{1-P(Y=1 \\mid \\text{Yale})} \\right) = \\beta_0 + \\beta_2 \\text{test\\_score} + \\beta_3 \\text{ap} $$"
   ]
  },
  {
   "cell_type": "markdown",
   "metadata": {},
   "source": [
    "<div class=\"highlight-box\" style=\"border: 1px solid #ffcccb; background-color: #ffcccb; height: 5px;\"></div>"
   ]
  },
  {
   "cell_type": "markdown",
   "metadata": {
    "cell_id": "0a790850-87c6-4f46-b89e-048a2295c92b",
    "colab_type": "text",
    "deletable": false,
    "editable": false,
    "id": "IGFtXJmQap2q"
   },
   "source": [
    "<!-- END QUESTION -->\n",
    "\n",
    "<!-- BEGIN QUESTION -->\n",
    "\n",
    "<div class='exercise-r'>\n",
    "\n",
    "**Q3.4** Determine two classification boundaries mathematically for the model in the previous part (using the estimated coefficients): What range of values of `test_score` as a function of `ap` would an applicant be predicted to have a better than 50% chance (i.e. 0.5 probability) of being admitted into the college they applied to? \n",
    "\n",
    "Use the function for Harvard to answer the following question: if a student scored a perfect 2400 on `test_score`, what is the range of AP tests they should take in order to have a better than 50% chance of being admitted into Harvard?\n",
    "\n",
    "Again, you should show your work in $\\LaTeX$.\n",
    "</div>"
   ]
  },
  {
   "cell_type": "markdown",
   "metadata": {},
   "source": [
    "<div class=\"highlight-box\" style=\"border: 1px solid #ffcccb; background-color: #ffcccb; height: 5px;\"></div>"
   ]
  },
  {
   "cell_type": "markdown",
   "metadata": {},
   "source": [
    "#### Harvard\n",
    "\n",
    "$$ \\ln \\left( \\frac{P(Y=1 \\mid \\text{Harvard})}{1-P(Y=1 \\mid \\text{Harvard})} \\right) = \\beta_0 + \\beta_1 + (\\beta_2 + \\beta_4) \\text{test\\_score} + (\\beta_3 + \\beta_5) \\text{ap} $$\n",
    "\n",
    "set probability of being admitted to 0.5:\n",
    "\n",
    "$$ \\ln \\left( \\frac{0.5}{1-0.5} \\right) = \\beta_0 + \\beta_1 + (\\beta_2 + \\beta_4) \\text{test\\_score} + (\\beta_3 + \\beta_5) \\text{avg\\_ap} $$\n",
    "\n",
    "$$ 0 =\\beta_0 + \\beta_1 + (\\beta_2 + \\beta_4) \\text{test\\_score} + (\\beta_3 + \\beta_5) \\text{avg\\_ap}  $$\n",
    "\n",
    "$$ \\text{test\\_score} = -\\frac{\\beta_0 + \\beta_1 + (\\beta_3 + \\beta_5) \\text{avg\\_ap}}{\\beta_2 + \\beta_4} $$\n",
    "\n",
    "#### Yale\n",
    "\n",
    "$$ \\ln \\left( \\frac{0.5}{1-0.5} \\right) = \\beta_0 + \\beta_2 \\text{test\\_score} + \\beta_3 \\text{avg\\_ap} $$\n",
    "\n",
    "$$ 0 = \\beta_0 + \\beta_2 \\text{test\\_score} + \\beta_3 \\text{avg\\_ap} $$\n",
    "\n",
    "$$ \\text{test\\_score} = -\\frac{\\beta_0 + \\beta_3 \\text{avg\\_ap}}{\\beta_2} $$\n",
    "\n",
    "#### Range of AP Tests for Harvard with 2400 Test Score\n",
    " \n",
    "$$ 2400 = -\\frac{\\beta_0 + \\beta_1 + (\\beta_3 + \\beta_5) \\text{ap}}{\\beta_2 + \\beta_4} $$\n",
    "\n",
    "$$ \\text{ap} = -\\frac{\\beta_0 + \\beta_1 + 2400 \\cdot (\\beta_2 + \\beta_4)}{\\beta_3 + \\beta_5} $$\n",
    "\n",
    "#### Range of AP Tests for Yale with 2400 Test Score\n",
    "\n",
    "$$ 2400 = -\\frac{\\beta_0 + \\beta_3 \\text{ap}}{\\beta_2}  $$\n",
    "\n",
    "$$ \\text{ap} = -\\frac{\\beta_0 + 2400 \\cdot \\beta_2}{\\beta_3} $$\n"
   ]
  },
  {
   "cell_type": "code",
   "execution_count": 37,
   "metadata": {},
   "outputs": [
    {
     "data": {
      "text/plain": [
       "array([-2.03783175e+00,  3.92960777e-03,  4.75976584e-03,  1.20049539e-03,\n",
       "       -1.04524431e-01])"
      ]
     },
     "execution_count": 37,
     "metadata": {},
     "output_type": "execute_result"
    }
   ],
   "source": [
    "logit3_2_coefs"
   ]
  },
  {
   "cell_type": "code",
   "execution_count": 38,
   "metadata": {},
   "outputs": [
    {
     "name": "stdout",
     "output_type": "stream",
     "text": [
      "the range of AP scores for which the probability of Harvard admission is greater than 0.5 is [4.29, ∞)\n"
     ]
    }
   ],
   "source": [
    "min_aps = -(logit3_2_intercept + logit3_2_coefs[0] + 2400 * (logit3_2_coefs[1]+logit3_2_coefs[3]))/(logit3_2_coefs[2]+logit3_2_coefs[4])\n",
    "print(f\"the range of AP scores for which the probability of Harvard admission is greater than 0.5 is [{min_aps:.2f}, ∞)\")"
   ]
  },
  {
   "cell_type": "code",
   "execution_count": 39,
   "metadata": {},
   "outputs": [
    {
     "name": "stdout",
     "output_type": "stream",
     "text": [
      "the range of AP scores for which the probability of Yale admission is greater than 0.5 is [87.27, ∞)\n"
     ]
    }
   ],
   "source": [
    "min_aps = -(logit3_2_intercept + 2400 * (logit3_2_coefs[1]))/(logit3_2_coefs[2])\n",
    "print(f\"the range of AP scores for which the probability of Yale admission is greater than 0.5 is [{min_aps:.2f}, ∞)\")"
   ]
  },
  {
   "cell_type": "markdown",
   "metadata": {},
   "source": [
    "<div class=\"highlight-box\" style=\"border: 1px solid #ffcccb; background-color: #ffcccb; height: 5px;\"></div>"
   ]
  },
  {
   "cell_type": "markdown",
   "metadata": {
    "cell_id": "0a790850-87c6-4f46-b89e-048a2295c92b",
    "colab_type": "text",
    "deletable": false,
    "editable": false,
    "id": "IGFtXJmQap2q"
   },
   "source": [
    "<!-- END QUESTION -->\n",
    "\n",
    "<!-- BEGIN QUESTION -->\n",
    "\n",
    "<div class='exercise-r'>\n",
    "\n",
    "**Q3.5** Create two separate scatterplots (one for Harvard applicants and one for Yale applicants) with the predictor `test_score` on the y-axis and `ap` on the x-axis where `admitted` is color-coded and the marker denotes train vs. test data.  Then add the appropriate classification boundary from the previous question (Q3.4).  Compare these two plots (including both the location of the boundaries and where the points lie around these boundaries).\n",
    "\n",
    "**NOTE:** As always, please be certain (a) your plot is titled, (b) everything is clearly labeled, and (c) the plot itself is formatted in a manner that makes it easy to read and interpret. It will likely take some careful work here to generate plots with data points that are clear and easy to see. You might try 'dithering' the points with a random offset so they are not all on top of one another.\n",
    "    \n",
    "</div>"
   ]
  },
  {
   "cell_type": "markdown",
   "metadata": {},
   "source": [
    "<div class=\"highlight-box\" style=\"border: 1px solid #ffcccb; background-color: #ffcccb; height: 5px;\"></div>"
   ]
  },
  {
   "cell_type": "markdown",
   "metadata": {},
   "source": [
    "Based on the two plots, it seems that Yale had a higher density of applicants in the highest AP category: 7. For the classification boundary created in the previous question, which represents the threshold where the points equal to and greater than shown ap and test_score values have a greater than 0.5 probability of admission to *harvard*. Thus, the boundary does not hold the same properties in the Yale plot. That being said, it seems that there is a higher density of green, admitted points along the boundary in the Harvard plot than in the Yale plot, suggesting that Yale is tougher to get into with a 2400 test_score and > 4.29 ap's, which makes sense given the acceptance rates observed above in our sample data."
   ]
  },
  {
   "cell_type": "markdown",
   "metadata": {},
   "source": [
    "<div class=\"highlight-box\" style=\"border: 1px solid #ffcccb; background-color: #ffcccb; height: 5px;\"></div>"
   ]
  },
  {
   "cell_type": "code",
   "execution_count": 40,
   "metadata": {
    "tags": []
   },
   "outputs": [
    {
     "data": {
      "text/plain": [
       "<matplotlib.legend.Legend at 0x21bf5927fe0>"
      ]
     },
     "execution_count": 40,
     "metadata": {},
     "output_type": "execute_result"
    },
    {
     "data": {
      "image/png": "[encoded data removed]",
      "text/plain": [
       "<Figure size 1000x600 with 1 Axes>"
      ]
     },
     "metadata": {},
     "output_type": "display_data"
    }
   ],
   "source": [
    "# dither ap points for college_train and college_test\n",
    "college_train['ap_dithered'] = college_train['ap'] + np.random.uniform(-0.2, 0.2, college_train.shape[0])\n",
    "college_test['ap_dithered'] = college_test['ap'] + np.random.uniform(-0.2, 0.2, college_test.shape[0])\n",
    "\n",
    "plt.figure(figsize=(10, 6))\n",
    "plt.scatter(college_train['ap_dithered'][(college_train['admitted'] == 1) & (college_train['harvard'] == 1)],\n",
    "            college_train['test_score'][(college_train['admitted'] == 1) & (college_train['harvard'] == 1)], \n",
    "            c='green', label='train admitted',alpha=0.2)\n",
    "plt.scatter(college_train['ap_dithered'][(college_train['admitted'] == 0) & (college_train['harvard'] == 1)],\n",
    "            college_train['test_score'][(college_train['admitted'] == 0) & (college_train['harvard'] == 1)], \n",
    "            c='red', label='train rejected', alpha=0.2)\n",
    "plt.scatter(college_test['ap_dithered'][(college_test['admitted'] == 1) & (college_train['harvard'] == 1)], \n",
    "            college_test['test_score'][(college_test['admitted'] == 1) & (college_train['harvard'] == 1)], \n",
    "            c='darkgreen', label='test admitted', alpha=0.2, marker='s')\n",
    "plt.scatter(college_test['ap_dithered'][(college_test['admitted'] == 0) & (college_train['harvard'] == 1)], \n",
    "            college_test['test_score'][(college_test['admitted'] == 0) & (college_train['harvard'] == 1)], \n",
    "            c='darkred', label='test rejected', alpha=0.2, marker='s')\n",
    "plt.xlabel('AP')\n",
    "plt.ylabel('Test Score')\n",
    "plt.title('Harvard Admissions by AP and Test Score')\n",
    "\n",
    "# add decision boundary for test_score >= 2400 and ap >= 4.29\n",
    "plt.vlines(4.29, 2400, plt.ylim()[1], color='black', linestyle='--', label='X and Y above this line > 50% chance of admission')\n",
    "plt.hlines(2400, 4.29, plt.xlim()[1], color='black', linestyle='--')\n",
    "plt.legend()\n",
    "\n"
   ]
  },
  {
   "cell_type": "code",
   "execution_count": 41,
   "metadata": {},
   "outputs": [
    {
     "data": {
      "text/plain": [
       "<matplotlib.legend.Legend at 0x21bf5c771a0>"
      ]
     },
     "execution_count": 41,
     "metadata": {},
     "output_type": "execute_result"
    },
    {
     "data": {
      "image/png": "[encoded data removed]",
      "text/plain": [
       "<Figure size 1000x600 with 1 Axes>"
      ]
     },
     "metadata": {},
     "output_type": "display_data"
    }
   ],
   "source": [
    "# same procedure for Yale\n",
    "plt.figure(figsize=(10, 6))\n",
    "plt.scatter(college_train['ap_dithered'][(college_train['admitted'] == 1) & (college_train['harvard'] == 0)], \n",
    "            college_train['test_score'][(college_train['admitted'] == 1) & (college_train['harvard'] == 0)], \n",
    "            c='green', label='train admitted', alpha=0.2)\n",
    "plt.scatter(college_train['ap_dithered'][(college_train['admitted'] == 0) & (college_train['harvard'] == 0)], \n",
    "            college_train['test_score'][(college_train['admitted'] == 0) & (college_train['harvard'] == 0)], \n",
    "            c='red', label='train rejected', alpha=0.2)\n",
    "plt.scatter(college_test['ap_dithered'][(college_test['admitted'] == 1) & (college_test['harvard'] == 0)], \n",
    "            college_test['test_score'][(college_test['admitted'] == 1) & (college_test['harvard'] == 0)], \n",
    "            c='darkgreen', label='test admitted', alpha=0.2, marker='s')\n",
    "plt.scatter(college_test['ap_dithered'][(college_test['admitted'] == 0) & (college_test['harvard'] == 0)], \n",
    "            college_test['test_score'][(college_test['admitted'] == 0) & (college_test['harvard'] == 0)], \n",
    "            c='darkred', label='test rejected', alpha=0.2, marker='s')\n",
    "\n",
    "plt.xlabel('AP')\n",
    "plt.ylabel('Test Score')\n",
    "plt.title('Yale Admissions by AP and Test Score')\n",
    "\n",
    "plt.vlines(4.29, 2400, plt.ylim()[1], color='black', linestyle='--', label='X and Y above this line > 50% chance of admission')\n",
    "plt.hlines(2400, 4.29, plt.xlim()[1], color='black', linestyle='--')\n",
    "\n",
    "plt.legend()\n"
   ]
  },
  {
   "cell_type": "code",
   "execution_count": null,
   "metadata": {},
   "outputs": [],
   "source": []
  },
  {
   "cell_type": "markdown",
   "metadata": {
    "cell_id": "0a790850-87c6-4f46-b89e-048a2295c92b",
    "colab_type": "text",
    "deletable": false,
    "editable": false,
    "id": "IGFtXJmQap2q"
   },
   "source": [
    "<!-- END QUESTION -->\n",
    "\n",
    "<div class='exercise-r'>\n",
    "\n",
    "**Q3.6** Fit a logistic regression model (call it `logit3_6`) to predict `admitted` from 4 predictors: `[\"harvard\", \"test_score\", \"female\", \"minority\"]` along with 2 interaction terms: `harvard` with `female` and `harvard` with `minority`. \n",
    "\n",
    " - Store the train and mean cv accuracies in `acc_train_logit3_6` and `acc_cv_logit3_6`.\n",
    " - Display the accuracy scores.\n",
    "</div>"
   ]
  },
  {
   "cell_type": "code",
   "execution_count": 42,
   "metadata": {
    "deletable": false,
    "editable": false
   },
   "outputs": [],
   "source": [
    "# Provided code in Q3.7 will assume this order of predictors\n",
    "logit3_6_predictors = [\"harvard\",\n",
    "                       \"test_score\",\n",
    "                       \"female\",\n",
    "                       \"minority\",\n",
    "                       \"harvard_female\",\n",
    "                       \"harvard_minority\"\n",
    "                      ]"
   ]
  },
  {
   "cell_type": "code",
   "execution_count": 43,
   "metadata": {
    "tags": []
   },
   "outputs": [
    {
     "name": "stderr",
     "output_type": "stream",
     "text": [
      "C:\\Users\\khcod\\AppData\\Local\\Temp\\ipykernel_9376\\3723222867.py:2: SettingWithCopyWarning: \n",
      "A value is trying to be set on a copy of a slice from a DataFrame.\n",
      "Try using .loc[row_indexer,col_indexer] = value instead\n",
      "\n",
      "See the caveats in the documentation: https://pandas.pydata.org/pandas-docs/stable/user_guide/indexing.html#returning-a-view-versus-a-copy\n",
      "  college_train_predictors['harvard_female'] = college_train_predictors['harvard'] * college_train_predictors['female']\n",
      "C:\\Users\\khcod\\AppData\\Local\\Temp\\ipykernel_9376\\3723222867.py:3: SettingWithCopyWarning: \n",
      "A value is trying to be set on a copy of a slice from a DataFrame.\n",
      "Try using .loc[row_indexer,col_indexer] = value instead\n",
      "\n",
      "See the caveats in the documentation: https://pandas.pydata.org/pandas-docs/stable/user_guide/indexing.html#returning-a-view-versus-a-copy\n",
      "  college_train_predictors['harvard_minority'] = college_train_predictors['harvard'] * college_train_predictors['minority']\n"
     ]
    }
   ],
   "source": [
    "# your code here\n",
    "college_train_predictors['harvard_female'] = college_train_predictors['harvard'] * college_train_predictors['female']\n",
    "college_train_predictors['harvard_minority'] = college_train_predictors['harvard'] * college_train_predictors['minority']\n",
    "x_train = college_train_predictors[logit3_6_predictors]\n",
    "logit3_6 = LogisticRegression(penalty=None,random_state=109, max_iter=10000).fit(x_train, y_train)\n",
    "acc_train_logit3_6 = accuracy_score(y_train, logit3_6.predict(x_train))\n",
    "acc_cv_logit3_6 = cross_val_score(logit3_6, x_train, y_train, cv=10).mean()"
   ]
  },
  {
   "cell_type": "code",
   "execution_count": 44,
   "metadata": {
    "deletable": false,
    "editable": false
   },
   "outputs": [
    {
     "name": "stdout",
     "output_type": "stream",
     "text": [
      "\n",
      "The classification accuracies for 'logit3_6' are:\n",
      "\n",
      "\tTrain\t0.7353\n",
      "\tCV\t0.7279\n"
     ]
    }
   ],
   "source": [
    "print(\n",
    "    \"\\nThe classification accuracies for 'logit3_6' are:\"\n",
    "    \"\\n\\n\\tTrain\\t{:.4f}\\n\\tCV\\t{:.4f}\"\n",
    "    .format(acc_train_logit3_6, acc_cv_logit3_6)\n",
    ")"
   ]
  },
  {
   "cell_type": "code",
   "execution_count": 45,
   "metadata": {
    "deletable": false,
    "editable": false
   },
   "outputs": [
    {
     "data": {
      "text/html": [
       "<p><strong><pre style='display: inline;'>q3.6</pre></strong> passed! 🌟</p>"
      ],
      "text/plain": [
       "q3.6 results: All test cases passed!"
      ]
     },
     "execution_count": 45,
     "metadata": {},
     "output_type": "execute_result"
    }
   ],
   "source": [
    "grader.check(\"q3.6\")"
   ]
  },
  {
   "cell_type": "markdown",
   "metadata": {
    "cell_id": "0a790850-87c6-4f46-b89e-048a2295c92b",
    "colab_type": "text",
    "deletable": false,
    "editable": false,
    "id": "IGFtXJmQap2q"
   },
   "source": [
    "<!-- BEGIN QUESTION -->\n",
    "\n",
    "<div class='exercise-r'>\n",
    "\n",
    "**Q3.7** Interpret the coefficients associated with `female` and `minority` (the two main effects AND the two interaction terms).\n",
    "    \n",
    "</div>"
   ]
  },
  {
   "cell_type": "code",
   "execution_count": 46,
   "metadata": {
    "deletable": false,
    "editable": false
   },
   "outputs": [
    {
     "name": "stdout",
     "output_type": "stream",
     "text": [
      "The intercept and coefficients for the 'logit3_6' model are:\n",
      "\n",
      "\tintercept           -12.0507\n",
      "\tharvard             0.2765\n",
      "\ttest_score          0.0049\n",
      "\tfemale              -0.1552\n",
      "\tminority            1.0960\n",
      "\tharvard_female      0.2372\n",
      "\tharvard_minority    -0.6214\n"
     ]
    }
   ],
   "source": [
    "# Display results\n",
    "logit3_6_intercept = np.array(logit3_6.intercept_).flatten()[0]\n",
    "logit3_6_coefs = logit3_6.coef_.flatten()\n",
    "\n",
    "print(\n",
    "    \"The intercept and coefficients for the 'logit3_6' model are:\"\n",
    "    \"\\n\\n\\t{:<20}{:.4f}\".format(\n",
    "        \"intercept\", logit3_6_intercept\n",
    "    )\n",
    ")\n",
    "\n",
    "for predictor, coef in zip(logit3_6_predictors, logit3_6_coefs):\n",
    "    print(\"\\t{:<20}{:.4f}\".format(predictor, coef))"
   ]
  },
  {
   "cell_type": "markdown",
   "metadata": {},
   "source": [
    "<div class=\"highlight-box\" style=\"border: 1px solid #ffcccb; background-color: #ffcccb; height: 5px;\"></div>"
   ]
  },
  {
   "cell_type": "markdown",
   "metadata": {},
   "source": [
    "being a female is associated with a 0.1552 reduction in log-odds of admission. Being a minority is associated with a 1.0960 increase in log-odds of admission. Being a female and applying to harvard is associated with a 0.2372 increase in log-odds of admission compared to Yale. On the other hand, being a minority and applying to harvard is associated with a 0.6214 reduction in log-odds of admission when compared to Yale."
   ]
  },
  {
   "cell_type": "markdown",
   "metadata": {},
   "source": [
    "<div class=\"highlight-box\" style=\"border: 1px solid #ffcccb; background-color: #ffcccb; height: 5px;\"></div>"
   ]
  },
  {
   "cell_type": "markdown",
   "metadata": {
    "cell_id": "0a790850-87c6-4f46-b89e-048a2295c92b",
    "colab_type": "text",
    "deletable": false,
    "editable": false,
    "id": "IGFtXJmQap2q"
   },
   "source": [
    "<!-- END QUESTION -->\n",
    "\n",
    "<!-- BEGIN QUESTION -->\n",
    "\n",
    "<div class='exercise-r'>\n",
    "\n",
    "**Q3.8** Based on this model, how does it appear that Harvard and Yale compare in admitting women and minorities?  Given what we've seen in our previous analysis, what might be some reasons we have to doubt the interpretation of the model's coefficients as reflecting the truth?\n",
    "\n",
    "</div>"
   ]
  },
  {
   "cell_type": "markdown",
   "metadata": {},
   "source": [
    "<div class=\"highlight-box\" style=\"border: 1px solid #ffcccb; background-color: #ffcccb; height: 5px;\"></div>"
   ]
  },
  {
   "cell_type": "markdown",
   "metadata": {},
   "source": [
    "The model coeficients above suggest that Harvard admits more women and Yale admits more minorities given the log-odds of the interaction terms described above. Firstly, we may doubt the interpretation of these interaction terms due to potential omitted variable bias: extracurricular acitivies, essay scores, and other important predictors were not included in this logistic regression. Secondly, the small sample size could lead us to a missing data problem. For instance, perhaps women are less likely to volunteer their data upon not recieving admission than men. "
   ]
  },
  {
   "cell_type": "markdown",
   "metadata": {},
   "source": [
    "<div class=\"highlight-box\" style=\"border: 1px solid #ffcccb; background-color: #ffcccb; height: 5px;\"></div>"
   ]
  },
  {
   "cell_type": "markdown",
   "metadata": {
    "deletable": false,
    "editable": false
   },
   "source": [
    "<!-- END QUESTION -->\n",
    "\n",
    "---"
   ]
  },
  {
   "cell_type": "markdown",
   "metadata": {},
   "source": [
    "<a id=\"part4\"></a>\n",
    "\n",
    "## <div class='exercise'>Question 4: Building predictive models for admitted</div>\n",
    "\n",
    "[Return to contents](#contents)"
   ]
  },
  {
   "cell_type": "markdown",
   "metadata": {
    "cell_id": "0a790850-87c6-4f46-b89e-048a2295c92b",
    "colab_type": "text",
    "deletable": false,
    "editable": false,
    "id": "IGFtXJmQap2q"
   },
   "source": [
    "<div class='exercise-r'>\n",
    "\n",
    "**Q4.1** You were instructed to NOT scale predictors in the prior sections above. The primary reason for this was to focus instead on the interpretability of our logistic regression coefficients. However, as we're sure you noticed, the numeric scale among our different predictors varies greatly (i.e. `test_score` values are in the 1,000's while others are much, much smaller). In practice, we might want to put our predictors all on a similar scale, particularly for regularized regression and/or distance-based algorithms such as $k$-NN classification. \n",
    "\n",
    "1. Explain why scaling under these circumstances might be important.\n",
    "2. Define a list of all non-binary predictors from the original set of 12 predictors, calling it `non_binary_predictors`.\n",
    "3. Apply standardized scaling to all of these **non-binary** predictors. **For the sake of consistency, fit your scaler on just the training data. Then use it to transform both train and test.**\n",
    "\n",
    "**IMPORTANT:** These scaled predictors should be used instead of the original unscaled versions of the predictors for the remainder of this problem set. Tests from this point on assume that `X_train` and `X_test` have been standardized with the approach outlined above. \n",
    "\n",
    "</div>"
   ]
  },
  {
   "cell_type": "code",
   "execution_count": 47,
   "metadata": {
    "tags": []
   },
   "outputs": [
    {
     "name": "stdout",
     "output_type": "stream",
     "text": [
      "Mean:\n",
      " test_score      5.343e-16\n",
      "ap              3.800e-17\n",
      "avg_ap          1.639e-16\n",
      "gpa            -4.180e-16\n",
      "sat_subjects    1.615e-16\n",
      "dtype: float64\n",
      "Standard deviation:\n",
      " test_score      1.0\n",
      "ap              1.0\n",
      "avg_ap          1.0\n",
      "gpa             1.0\n",
      "sat_subjects    1.0\n",
      "dtype: float64\n"
     ]
    }
   ],
   "source": [
    "# 1. scaling the data is important because having predictors on different orders of magnitude can lead to poor model performance\n",
    "# we saw this earlier when comparing efficacy of test_score and avg_ap\n",
    "\n",
    "# your code here\n",
    "non_binary_predictors = [\"test_score\", \"ap\", \"avg_ap\", \"gpa\", 'sat_subjects']\n",
    "\n",
    "# apply standard scaler to non-binary predictors, ensuring mean 0 and std 1\n",
    "scaler = StandardScaler()\n",
    "X_train = college_train.drop(columns=['admitted','ap_dithered','id', 'program', 'add_info']).copy()\n",
    "X_train[non_binary_predictors] = scaler.fit_transform(college_train[non_binary_predictors])\n",
    "X_test[non_binary_predictors] = scaler.transform(college_test[non_binary_predictors])\n",
    "\n",
    "print(\"Mean:\\n\", X_train[non_binary_predictors].mean())\n",
    "print(\"Standard deviation:\\n\", X_train[non_binary_predictors].std())"
   ]
  },
  {
   "cell_type": "code",
   "execution_count": 48,
   "metadata": {
    "deletable": false,
    "editable": false
   },
   "outputs": [
    {
     "data": {
      "text/html": [
       "<div>\n",
       "<style scoped>\n",
       "    .dataframe tbody tr th:only-of-type {\n",
       "        vertical-align: middle;\n",
       "    }\n",
       "\n",
       "    .dataframe tbody tr th {\n",
       "        vertical-align: top;\n",
       "    }\n",
       "\n",
       "    .dataframe thead th {\n",
       "        text-align: right;\n",
       "    }\n",
       "</style>\n",
       "<table border=\"1\" class=\"dataframe\">\n",
       "  <thead>\n",
       "    <tr style=\"text-align: right;\">\n",
       "      <th></th>\n",
       "      <th>test_score</th>\n",
       "      <th>ap</th>\n",
       "      <th>avg_ap</th>\n",
       "      <th>sat_subjects</th>\n",
       "      <th>gpa</th>\n",
       "      <th>female</th>\n",
       "      <th>minority</th>\n",
       "      <th>international</th>\n",
       "      <th>sports</th>\n",
       "      <th>early_app</th>\n",
       "      <th>alumni</th>\n",
       "      <th>harvard</th>\n",
       "    </tr>\n",
       "  </thead>\n",
       "  <tbody>\n",
       "    <tr>\n",
       "      <th>count</th>\n",
       "      <td>1.496e+03</td>\n",
       "      <td>1.496e+03</td>\n",
       "      <td>1.496e+03</td>\n",
       "      <td>1.496e+03</td>\n",
       "      <td>1.496e+03</td>\n",
       "      <td>1496.000</td>\n",
       "      <td>1496.000</td>\n",
       "      <td>1496.000</td>\n",
       "      <td>1496.000</td>\n",
       "      <td>1496.000</td>\n",
       "      <td>1496.000</td>\n",
       "      <td>1496.000</td>\n",
       "    </tr>\n",
       "    <tr>\n",
       "      <th>mean</th>\n",
       "      <td>5.343e-16</td>\n",
       "      <td>3.800e-17</td>\n",
       "      <td>1.639e-16</td>\n",
       "      <td>1.615e-16</td>\n",
       "      <td>-4.180e-16</td>\n",
       "      <td>0.511</td>\n",
       "      <td>0.215</td>\n",
       "      <td>0.061</td>\n",
       "      <td>0.035</td>\n",
       "      <td>0.172</td>\n",
       "      <td>0.046</td>\n",
       "      <td>0.519</td>\n",
       "    </tr>\n",
       "    <tr>\n",
       "      <th>std</th>\n",
       "      <td>1.000e+00</td>\n",
       "      <td>1.000e+00</td>\n",
       "      <td>1.000e+00</td>\n",
       "      <td>1.000e+00</td>\n",
       "      <td>1.000e+00</td>\n",
       "      <td>0.500</td>\n",
       "      <td>0.411</td>\n",
       "      <td>0.239</td>\n",
       "      <td>0.185</td>\n",
       "      <td>0.378</td>\n",
       "      <td>0.210</td>\n",
       "      <td>0.500</td>\n",
       "    </tr>\n",
       "    <tr>\n",
       "      <th>min</th>\n",
       "      <td>-6.125e+00</td>\n",
       "      <td>-1.470e+00</td>\n",
       "      <td>-2.159e+00</td>\n",
       "      <td>-2.262e+00</td>\n",
       "      <td>-9.703e+00</td>\n",
       "      <td>0.000</td>\n",
       "      <td>0.000</td>\n",
       "      <td>0.000</td>\n",
       "      <td>0.000</td>\n",
       "      <td>0.000</td>\n",
       "      <td>0.000</td>\n",
       "      <td>0.000</td>\n",
       "    </tr>\n",
       "    <tr>\n",
       "      <th>25%</th>\n",
       "      <td>-4.540e-01</td>\n",
       "      <td>-6.091e-01</td>\n",
       "      <td>-1.203e-01</td>\n",
       "      <td>-6.917e-01</td>\n",
       "      <td>-2.008e-01</td>\n",
       "      <td>0.000</td>\n",
       "      <td>0.000</td>\n",
       "      <td>0.000</td>\n",
       "      <td>0.000</td>\n",
       "      <td>0.000</td>\n",
       "      <td>0.000</td>\n",
       "      <td>0.000</td>\n",
       "    </tr>\n",
       "    <tr>\n",
       "      <th>50%</th>\n",
       "      <td>1.958e-01</td>\n",
       "      <td>-1.787e-01</td>\n",
       "      <td>4.205e-01</td>\n",
       "      <td>9.342e-02</td>\n",
       "      <td>3.612e-01</td>\n",
       "      <td>1.000</td>\n",
       "      <td>0.000</td>\n",
       "      <td>0.000</td>\n",
       "      <td>0.000</td>\n",
       "      <td>0.000</td>\n",
       "      <td>0.000</td>\n",
       "      <td>1.000</td>\n",
       "    </tr>\n",
       "    <tr>\n",
       "      <th>75%</th>\n",
       "      <td>7.275e-01</td>\n",
       "      <td>6.822e-01</td>\n",
       "      <td>6.909e-01</td>\n",
       "      <td>9.342e-02</td>\n",
       "      <td>6.167e-01</td>\n",
       "      <td>1.000</td>\n",
       "      <td>0.000</td>\n",
       "      <td>0.000</td>\n",
       "      <td>0.000</td>\n",
       "      <td>0.000</td>\n",
       "      <td>0.000</td>\n",
       "      <td>1.000</td>\n",
       "    </tr>\n",
       "    <tr>\n",
       "      <th>max</th>\n",
       "      <td>1.259e+00</td>\n",
       "      <td>1.543e+00</td>\n",
       "      <td>7.533e-01</td>\n",
       "      <td>2.449e+00</td>\n",
       "      <td>6.167e-01</td>\n",
       "      <td>1.000</td>\n",
       "      <td>1.000</td>\n",
       "      <td>1.000</td>\n",
       "      <td>1.000</td>\n",
       "      <td>1.000</td>\n",
       "      <td>1.000</td>\n",
       "      <td>1.000</td>\n",
       "    </tr>\n",
       "  </tbody>\n",
       "</table>\n",
       "</div>"
      ],
      "text/plain": [
       "       test_score         ap     avg_ap  sat_subjects        gpa    female  \\\n",
       "count   1.496e+03  1.496e+03  1.496e+03     1.496e+03  1.496e+03  1496.000   \n",
       "mean    5.343e-16  3.800e-17  1.639e-16     1.615e-16 -4.180e-16     0.511   \n",
       "std     1.000e+00  1.000e+00  1.000e+00     1.000e+00  1.000e+00     0.500   \n",
       "min    -6.125e+00 -1.470e+00 -2.159e+00    -2.262e+00 -9.703e+00     0.000   \n",
       "25%    -4.540e-01 -6.091e-01 -1.203e-01    -6.917e-01 -2.008e-01     0.000   \n",
       "50%     1.958e-01 -1.787e-01  4.205e-01     9.342e-02  3.612e-01     1.000   \n",
       "75%     7.275e-01  6.822e-01  6.909e-01     9.342e-02  6.167e-01     1.000   \n",
       "max     1.259e+00  1.543e+00  7.533e-01     2.449e+00  6.167e-01     1.000   \n",
       "\n",
       "       minority  international    sports  early_app    alumni   harvard  \n",
       "count  1496.000       1496.000  1496.000   1496.000  1496.000  1496.000  \n",
       "mean      0.215          0.061     0.035      0.172     0.046     0.519  \n",
       "std       0.411          0.239     0.185      0.378     0.210     0.500  \n",
       "min       0.000          0.000     0.000      0.000     0.000     0.000  \n",
       "25%       0.000          0.000     0.000      0.000     0.000     0.000  \n",
       "50%       0.000          0.000     0.000      0.000     0.000     1.000  \n",
       "75%       0.000          0.000     0.000      0.000     0.000     1.000  \n",
       "max       1.000          1.000     1.000      1.000     1.000     1.000  "
      ]
     },
     "execution_count": 48,
     "metadata": {},
     "output_type": "execute_result"
    }
   ],
   "source": [
    "# preview summary stats after standardizing\n",
    "X_train.describe()"
   ]
  },
  {
   "cell_type": "code",
   "execution_count": 49,
   "metadata": {
    "deletable": false,
    "editable": false
   },
   "outputs": [
    {
     "data": {
      "text/html": [
       "<p><strong><pre style='display: inline;'>q4.1</pre></strong> passed! 🎉</p>"
      ],
      "text/plain": [
       "q4.1 results: All test cases passed!"
      ]
     },
     "execution_count": 49,
     "metadata": {},
     "output_type": "execute_result"
    }
   ],
   "source": [
    "grader.check(\"q4.1\")"
   ]
  },
  {
   "cell_type": "markdown",
   "metadata": {
    "cell_id": "0a790850-87c6-4f46-b89e-048a2295c92b",
    "colab_type": "text",
    "deletable": false,
    "editable": false,
    "id": "IGFtXJmQap2q"
   },
   "source": [
    "<!-- BEGIN QUESTION -->\n",
    "\n",
    "<div class='exercise-r'>\n",
    "\n",
    "**Q4.2** Fit a well-tuned $k$-NN classification model with main effects of all 12 predictors in it (call it `knn_model`).  Use `ks = range(1, 50, 2)` and 10-fold cross-validation with classification accuracy as the scoring metric. Plot, on a single set of axes, your resulting cross-validation mean training and mean validation scores at each value $k$. Then, store your chosen $k$ in `best_k`, the accuracy on the best model when refit on all the training data in `knn_train_acc`, and the mean 10-fold CV accuracy of the best model in `knn_cv_acc`.\n",
    "    \n",
    "</div>"
   ]
  },
  {
   "cell_type": "code",
   "execution_count": 50,
   "metadata": {},
   "outputs": [
    {
     "name": "stdout",
     "output_type": "stream",
     "text": [
      "Non-numeric columns: Index([], dtype='object')\n"
     ]
    }
   ],
   "source": [
    "# debugging test done for above step\n",
    "non_numeric_columns = X_train.select_dtypes(include=['object']).columns\n",
    "print(\"Non-numeric columns:\", non_numeric_columns)"
   ]
  },
  {
   "cell_type": "code",
   "execution_count": 51,
   "metadata": {
    "tags": []
   },
   "outputs": [],
   "source": [
    "ks = range(1, 50, 2)\n",
    "\n",
    "# your code here\n",
    "mean_training_accuracies = []\n",
    "mean_cv_accuracies = []\n",
    "\n",
    "y_train = college_train['admitted']\n",
    "\n",
    "for k in ks:\n",
    "    knn = KNeighborsClassifier(n_neighbors=k)\n",
    "    cv_results = cross_validate(knn, X_train, y_train, cv=10, return_train_score=True)\n",
    "    mean_training_accuracies.append(cv_results['train_score'].mean())\n",
    "    mean_cv_accuracies.append(cv_results['test_score'].mean())\n",
    "\n",
    "best_k = ks[np.argmax(mean_cv_accuracies)]\n",
    "knn = KNeighborsClassifier(n_neighbors=best_k).fit(X_train, y_train)\n",
    "\n",
    "knn_train_acc = accuracy_score(y_train, knn.predict(X_train))\n",
    "knn_cv_acc = cross_val_score(knn, X_train, y_train, cv=10).mean()"
   ]
  },
  {
   "cell_type": "code",
   "execution_count": 52,
   "metadata": {
    "tags": []
   },
   "outputs": [
    {
     "data": {
      "text/plain": [
       "<matplotlib.legend.Legend at 0x21bf5dd4710>"
      ]
     },
     "execution_count": 52,
     "metadata": {},
     "output_type": "execute_result"
    },
    {
     "data": {
      "image/png": "[encoded data removed]",
      "text/plain": [
       "<Figure size 640x480 with 1 Axes>"
      ]
     },
     "metadata": {},
     "output_type": "display_data"
    }
   ],
   "source": [
    "# Plot cross-validation results\n",
    "# your code here\n",
    "\n",
    "plt.plot(ks, mean_training_accuracies, label='Training')\n",
    "plt.plot(ks, mean_cv_accuracies, label='Validation')\n",
    "plt.title('KNN Model Performance on train and validation sets')\n",
    "plt.xlabel('k')\n",
    "plt.ylabel('CV Accuracy')\n",
    "plt.legend()"
   ]
  },
  {
   "cell_type": "code",
   "execution_count": 53,
   "metadata": {
    "deletable": false,
    "editable": false
   },
   "outputs": [
    {
     "name": "stdout",
     "output_type": "stream",
     "text": [
      "The classification accuracies for 'knn_model' where k=15 are:\n",
      "\n",
      "\tTrain\t0.7574\n",
      "\tCV\t0.7413\n"
     ]
    }
   ],
   "source": [
    "print(\n",
    "    \"The classification accuracies for 'knn_model' where k={} \"\n",
    "    \"are:\\n\\n\\tTrain\\t{:.4f}\\n\\tCV\\t{:.4f}\"\n",
    "    .format(\n",
    "        best_k, knn_train_acc, knn_cv_acc\n",
    "    )\n",
    ")\n",
    "# create dict for storing test scores for each Q4 model\n",
    "q4_cv_scores = {\"knn_model\": knn_cv_acc}"
   ]
  },
  {
   "cell_type": "markdown",
   "metadata": {
    "cell_id": "0a790850-87c6-4f46-b89e-048a2295c92b",
    "colab_type": "text",
    "deletable": false,
    "editable": false,
    "id": "IGFtXJmQap2q"
   },
   "source": [
    "<!-- END QUESTION -->\n",
    "\n",
    "<div class='exercise-r'>\n",
    "\n",
    "**Q4.3** Fit the full logistic regression model (without penalty) with main effects of all 12 predictors in it (call it `logit_full`). Store the train mean cv accuracy in `logit_full_train_acc` and `logit_full_cv_acc`.\n",
    "\n",
    "**HINT:** If you have convergence warnings, increasing the maximum number of iterations will likely solve this issue.\n",
    "    \n",
    "</div>"
   ]
  },
  {
   "cell_type": "code",
   "execution_count": 54,
   "metadata": {
    "deletable": false,
    "editable": false
   },
   "outputs": [],
   "source": [
    "# The code that prints your results assumes\n",
    "# predictors were given to the model in this order\n",
    "predictor_list = [\n",
    "    \"test_score\", \"ap\", \"avg_ap\", \"sat_subjects\",\n",
    "    \"gpa\", \"female\", \"minority\", \"international\",\n",
    "    \"sports\", \"harvard\", \"early_app\", \"alumni\",\n",
    "]"
   ]
  },
  {
   "cell_type": "code",
   "execution_count": 56,
   "metadata": {
    "tags": []
   },
   "outputs": [],
   "source": [
    "# your code here\n",
    "logit_full = LogisticRegression(penalty=None, random_state=109, max_iter=10000).fit(X_train[predictor_list], y_train)\n",
    "\n",
    "logit_full_train_acc = accuracy_score(y_train, logit_full.predict(X_train[predictor_list]))\n",
    "\n",
    "logit_full_cv_acc = cross_val_score(logit_full, X_train, y_train, cv=10).mean()"
   ]
  },
  {
   "cell_type": "code",
   "execution_count": 57,
   "metadata": {
    "tags": []
   },
   "outputs": [
    {
     "name": "stdout",
     "output_type": "stream",
     "text": [
      "The intercept and coefficients for the 'logit_full' model are:\n",
      "\n",
      "\tintercept           -1.7415\n",
      "\ttest_score          0.8893\n",
      "\tap                  -0.1284\n",
      "\tavg_ap              0.0008\n",
      "\tsat_subjects        -0.0976\n",
      "\tgpa                 0.0697\n",
      "\tfemale              -0.0175\n",
      "\tminority            0.8088\n",
      "\tinternational       0.3067\n",
      "\tsports              1.0388\n",
      "\tharvard             0.3949\n",
      "\tearly_app           0.6029\n",
      "\talumni              0.8664\n",
      "\n",
      "The classification accuracies for 'logit_full' are:\n",
      "\n",
      "\tTrain\t0.7447\n",
      "\tCV\t0.7373\n"
     ]
    }
   ],
   "source": [
    "# display your results\n",
    "print(\n",
    "    \"The intercept and coefficients for the 'logit_full' model are:\"\n",
    "    \"\\n\\n\\t{:<20}{:.4f}\".format(\n",
    "        \"intercept\", np.array(logit_full.intercept_).flatten()[0]\n",
    "    )\n",
    ")\n",
    "\n",
    "for predictor, coef in zip(predictor_list, logit_full.coef_.flatten()):\n",
    "    print(\"\\t{:<20}{:.4f}\".format(predictor, coef))\n",
    "\n",
    "print(\n",
    "    \"\\nThe classification accuracies for 'logit_full' are:\"\n",
    "    \"\\n\\n\\tTrain\\t{:.4f}\\n\\tCV\\t{:.4f}\"\n",
    "    .format(logit_full_train_acc, logit_full_cv_acc)\n",
    ")\n",
    "\n",
    "# store test score to dict for later use\n",
    "q4_cv_scores[\"logit_full\"] = logit_full_cv_acc"
   ]
  },
  {
   "cell_type": "code",
   "execution_count": 58,
   "metadata": {
    "deletable": false,
    "editable": false
   },
   "outputs": [
    {
     "data": {
      "text/html": [
       "<p><strong><pre style='display: inline;'>q4.3</pre></strong> passed! 💯</p>"
      ],
      "text/plain": [
       "q4.3 results: All test cases passed!"
      ]
     },
     "execution_count": 58,
     "metadata": {},
     "output_type": "execute_result"
    }
   ],
   "source": [
    "grader.check(\"q4.3\")"
   ]
  },
  {
   "cell_type": "markdown",
   "metadata": {
    "cell_id": "0a790850-87c6-4f46-b89e-048a2295c92b",
    "colab_type": "text",
    "deletable": false,
    "editable": false,
    "id": "IGFtXJmQap2q"
   },
   "source": [
    "<div class='exercise-r'>\n",
    "\n",
    "**Q4.4** Fit a well-tuned Lasso-like logistic regression model from all 12 predictors in it (call it `logit_lasso`). Use `Cs = np.logspace(-2, 2, 50)` and 10-fold cross-validation. Store the train and mean cross-validation accuracies in `logit_lasso_train_acc` and `logit_lasso_cv_acc`. For tuning a regularized logistic regression model, you should use `LogisticRegressionCV`. But again, to insure reproducability here, you should set `random_state=109`. \n",
    "\n",
    "**Hint:**\n",
    "- The default solver for SKLearn's logistic regression, 'lbfgs', is not compatible with LASSO regularization, so you will need to use a different solver here. See the [documentation](https://scikit-learn.org/stable/modules/generated/sklearn.linear_model.LogisticRegressionCV.html) for guidance.\n",
    "\n",
    "</div>"
   ]
  },
  {
   "cell_type": "code",
   "execution_count": 59,
   "metadata": {
    "tags": []
   },
   "outputs": [],
   "source": [
    "Cs = np.logspace(-2, 2, 50)\n",
    "\n",
    "logit_lasso = LogisticRegressionCV(Cs=Cs, cv=10, penalty=\"l1\", max_iter = 1000, solver=\"liblinear\", random_state=109, scoring=\"accuracy\").fit(X_train[predictor_list], y_train) \n",
    "logit_lasso_train_acc = logit_lasso.score(X_train[predictor_list], y_train) \n",
    "logit_lasso_cv_acc = logit_lasso.scores_[1].mean(axis=0).max()"
   ]
  },
  {
   "cell_type": "code",
   "execution_count": 60,
   "metadata": {
    "tags": []
   },
   "outputs": [
    {
     "name": "stdout",
     "output_type": "stream",
     "text": [
      "The intercept and coefficients for the 'logit_lasso' model are:\n",
      "\n",
      "\tintercept           -1.5207\n",
      "\ttest_score          0.8187\n",
      "\tap                  -0.0967\n",
      "\tavg_ap              -0.0240\n",
      "\tsat_subjects        -0.0689\n",
      "\tgpa                 0.0283\n",
      "\tfemale              -0.0029\n",
      "\tminority            0.6527\n",
      "\tinternational       0.0000\n",
      "\tsports              0.5988\n",
      "\tharvard             0.2628\n",
      "\tearly_app           0.4534\n",
      "\talumni              0.6012\n",
      "\n",
      "The classification accuracies for 'logit_lasso' are:\n",
      "\n",
      "\tTrain\t0.7420\n",
      "\tCV\t0.7380\n"
     ]
    }
   ],
   "source": [
    "# Display your results\n",
    "print(\n",
    "    \"The intercept and coefficients for the 'logit_lasso' model are:\"\n",
    "    \"\\n\\n\\t{:<20}{:.4f}\".format(\n",
    "        \"intercept\", np.array(logit_lasso.intercept_).flatten()[0]\n",
    "    )\n",
    ")\n",
    "\n",
    "# Again, this code assumes predictors were given to the model\n",
    "# in the order defined in `predictor_list`\n",
    "for predictor, coef in zip(predictor_list, logit_lasso.coef_.flatten()):\n",
    "    print(\"\\t{:<20}{:.4f}\".format(predictor, coef))\n",
    "\n",
    "print(\n",
    "    \"\\nThe classification accuracies for 'logit_lasso' are:\"\n",
    "    \"\\n\\n\\tTrain\\t{:.4f}\\n\\tCV\\t{:.4f}\"\n",
    "    .format(logit_lasso_train_acc, logit_lasso_cv_acc)\n",
    ")\n",
    "\n",
    "# store cv score to dict for later use\n",
    "q4_cv_scores[\"logit_lasso\"] = logit_lasso_cv_acc"
   ]
  },
  {
   "cell_type": "code",
   "execution_count": 61,
   "metadata": {
    "deletable": false,
    "editable": false
   },
   "outputs": [
    {
     "data": {
      "text/html": [
       "<p><strong><pre style='display: inline;'>q4.4</pre></strong> passed! ✨</p>"
      ],
      "text/plain": [
       "q4.4 results: All test cases passed!"
      ]
     },
     "execution_count": 61,
     "metadata": {},
     "output_type": "execute_result"
    }
   ],
   "source": [
    "grader.check(\"q4.4\")"
   ]
  },
  {
   "cell_type": "markdown",
   "metadata": {
    "cell_id": "0a790850-87c6-4f46-b89e-048a2295c92b",
    "colab_type": "text",
    "deletable": false,
    "editable": false,
    "id": "IGFtXJmQap2q"
   },
   "source": [
    "<div class='exercise-r'>\n",
    "\n",
    "**4.5** Which predictors were deemed important in `logit_lasso`?  Which were deemed unimportant? Here we assume that any predictors with zero-valued Lasso coefficients \"unimportant\". Store your results in `predictors_important` and `predictors_not_important`.\n",
    " \n",
    "</div>"
   ]
  },
  {
   "cell_type": "code",
   "execution_count": 62,
   "metadata": {
    "tags": []
   },
   "outputs": [],
   "source": [
    "# NOTE: the 'liblinear' solver gave the correct accuracy and failed the below grader check but the 'saga' solver gave the opposite\n",
    "\n",
    "\n",
    "predictors_important = [predictor for predictor, coef in zip(predictor_list, logit_lasso.coef_.flatten()) if coef != 0]\n",
    "predictors_not_important = [predictor for predictor, coef in zip(predictor_list, logit_lasso.coef_.flatten()) if coef == 0]"
   ]
  },
  {
   "cell_type": "code",
   "execution_count": 63,
   "metadata": {
    "tags": []
   },
   "outputs": [
    {
     "name": "stdout",
     "output_type": "stream",
     "text": [
      "The following predictors were deemed important by 'logit_lasso' (i.e. coef != 0):\n",
      "\n",
      "\t['test_score', 'ap', 'avg_ap', 'sat_subjects', 'gpa', 'female', 'minority', 'sports', 'harvard', 'early_app', 'alumni']\n",
      "\n",
      "\n",
      "While, the remaining were deemed unimportant (i.e. coef == 0):\n",
      "\n",
      "\t['international']\n"
     ]
    }
   ],
   "source": [
    "# display results\n",
    "print(\n",
    "    \"The following predictors were deemed important by \"\n",
    "    \"'logit_lasso' (i.e. coef != 0):\\n\\n\\t{}\\n\\n\\n\"\n",
    "    \"While, the remaining were deemed unimportant (i.e. \"\n",
    "    \"coef == 0):\\n\\n\\t{}\"\n",
    "    .format(\n",
    "        predictors_important,\n",
    "        predictors_not_important,\n",
    "    )\n",
    ")"
   ]
  },
  {
   "cell_type": "code",
   "execution_count": 64,
   "metadata": {
    "deletable": false,
    "editable": false
   },
   "outputs": [
    {
     "data": {
      "text/html": [
       "<p><strong><pre style='display: inline;'>q4.5</pre></strong> passed! 💯</p>"
      ],
      "text/plain": [
       "q4.5 results: All test cases passed!"
      ]
     },
     "execution_count": 64,
     "metadata": {},
     "output_type": "execute_result"
    }
   ],
   "source": [
    "grader.check(\"q4.5\")"
   ]
  },
  {
   "cell_type": "markdown",
   "metadata": {
    "cell_id": "0a790850-87c6-4f46-b89e-048a2295c92b",
    "colab_type": "text",
    "deletable": false,
    "editable": false,
    "id": "IGFtXJmQap2q"
   },
   "source": [
    "<div class='exercise-r'>\n",
    "\n",
    "**Q4.6** Fit a well-tuned Lasso-like logistic regression model with all important predictors from `logit_lasso` and all the unique 2-way interactions between them (call it `lasso_interact`).  Again use `Cs = np.logspace(-2, 2, 50)`,  and 10-fold cross-validation with classification accuracy as the scoring metric. Record the accuracy on train and test for this model in `lasso_interact_train_acc` and `lasso_interact_test_acc`.\n",
    "\n",
    "</div>"
   ]
  },
  {
   "cell_type": "code",
   "execution_count": 65,
   "metadata": {
    "tags": []
   },
   "outputs": [],
   "source": [
    "# I only drop 'international' here because that was deemed unimportant by the previous question after experimenting with different solvers\n",
    "X_train_important = X_train[predictor_list].drop(columns=['international'])\n",
    "X_test_important = X_test[predictor_list].drop(columns=['international'])\n",
    "\n",
    "# get 2-way interactions for all predictors using Polynomial Features\n",
    "poly = PolynomialFeatures(degree=2, interaction_only=True, include_bias=False)\n",
    "X_train_interactions = poly.fit_transform(X_train_important)\n",
    "X_test_interactions = poly.transform(X_test_important)\n"
   ]
  },
  {
   "cell_type": "code",
   "execution_count": 66,
   "metadata": {
    "scrolled": true,
    "tags": []
   },
   "outputs": [],
   "source": [
    "Cs = np.logspace(-2, 2, 50)\n",
    "\n",
    "lasso_interact = LogisticRegressionCV(Cs=Cs, penalty='l1', solver='liblinear', cv=10, random_state=109, max_iter=1000).fit(X_train_interactions, y_train)\n",
    "lasso_interact_train_acc = accuracy_score(y_train, lasso_interact.predict(X_train_interactions))\n",
    "lasso_interact_cv_acc = cross_val_score(lasso_interact, X_train_interactions, y_train, cv=10).mean()\n",
    "lasso_interact_test_acc = accuracy_score(y_test, lasso_interact.predict(X_test_interactions))"
   ]
  },
  {
   "cell_type": "code",
   "execution_count": 67,
   "metadata": {
    "scrolled": true,
    "tags": []
   },
   "outputs": [
    {
     "name": "stdout",
     "output_type": "stream",
     "text": [
      "\n",
      "The classification accuracies for 'logit_lasso_interact' are:\n",
      "\n",
      "\tTrain\t0.7547\n",
      "\tCV\t0.7380\n",
      "\tTest\t0.7253\n"
     ]
    }
   ],
   "source": [
    "print(\n",
    "    \"\\nThe classification accuracies for 'logit_lasso_interact' are:\"\n",
    "    \"\\n\\n\\tTrain\\t{:.4f}\\n\\tCV\\t{:.4f}\\n\\tTest\\t{:.4f}\"\n",
    "    .format(lasso_interact_train_acc, lasso_interact_cv_acc, lasso_interact_test_acc)\n",
    ")\n",
    "\n",
    "# store test score to dict for later use\n",
    "q4_cv_scores[\"lasso_interact\"] = lasso_interact_cv_acc"
   ]
  },
  {
   "cell_type": "markdown",
   "metadata": {
    "cell_id": "0a790850-87c6-4f46-b89e-048a2295c92b",
    "colab_type": "text",
    "deletable": false,
    "editable": false,
    "id": "IGFtXJmQap2q"
   },
   "source": [
    "<div class='exercise-r'>\n",
    "\n",
    "**Q4.7** How many of the predictors in our `logit_lasso_interact` model were deemed important and unimportant? Store these numbers in `num_important_coefs` and `num_unimportant_coefs`. \n",
    "    \n",
    "</div>"
   ]
  },
  {
   "cell_type": "code",
   "execution_count": 68,
   "metadata": {
    "tags": []
   },
   "outputs": [],
   "source": [
    "# your code here\n",
    "num_important_coefs = sum(lasso_interact.coef_.flatten() != 0)\n",
    "num_unimportant_coefs = sum(lasso_interact.coef_.flatten() == 0)"
   ]
  },
  {
   "cell_type": "code",
   "execution_count": 69,
   "metadata": {
    "tags": []
   },
   "outputs": [
    {
     "name": "stdout",
     "output_type": "stream",
     "text": [
      "Of the 66 predictors used in our 'logit_lasso_interact' model:\n",
      "\n",
      "\t44 predictors were deemed 'important' by our model\n",
      "\t22 predictors were deemed 'unimportant' with 0-valued coefficients\n"
     ]
    }
   ],
   "source": [
    "print(\n",
    "    \"Of the {} predictors used in our 'logit_lasso_interact' model:\"\n",
    "    \"\\n\\n\\t{} predictors were deemed 'important' by our model\"\n",
    "    \"\\n\\t{} predictors were deemed 'unimportant' with 0-valued \"\n",
    "    \"coefficients\".format(\n",
    "        num_important_coefs + num_unimportant_coefs,\n",
    "        num_important_coefs,\n",
    "        num_unimportant_coefs\n",
    "    )\n",
    ")"
   ]
  },
  {
   "cell_type": "code",
   "execution_count": 70,
   "metadata": {
    "deletable": false,
    "editable": false
   },
   "outputs": [
    {
     "data": {
      "text/html": [
       "<p><strong><pre style='display: inline;'>q4.7</pre></strong> passed! 🎉</p>"
      ],
      "text/plain": [
       "q4.7 results: All test cases passed!"
      ]
     },
     "execution_count": 70,
     "metadata": {},
     "output_type": "execute_result"
    }
   ],
   "source": [
    "grader.check(\"q4.7\")"
   ]
  },
  {
   "cell_type": "markdown",
   "metadata": {},
   "source": [
    "---"
   ]
  },
  {
   "cell_type": "markdown",
   "metadata": {},
   "source": [
    "<a id=\"part5\"></a>\n",
    "\n",
    "## <div class='exercise'>Question 5: Evaluating results</div>\n",
    "\n",
    "[Return to contents](#contents)"
   ]
  },
  {
   "cell_type": "markdown",
   "metadata": {
    "cell_id": "0a790850-87c6-4f46-b89e-048a2295c92b",
    "colab_type": "text",
    "deletable": false,
    "editable": false,
    "id": "IGFtXJmQap2q"
   },
   "source": [
    "<!-- BEGIN QUESTION -->\n",
    "\n",
    "<div class='exercise-r'>\n",
    "\n",
    "**Q5.1** Which of the 4 models in Question 4 performs the best based on cross-validation accuracy?  Which performs the worst? Based on these accuracies, how do these models perform compared to your baseline \"naive\" model's performance on the training data back in Question 1.1? What does this comparison to the \"naive\" model tell us?\n",
    "    \n",
    "</div>"
   ]
  },
  {
   "cell_type": "code",
   "execution_count": 71,
   "metadata": {
    "deletable": false,
    "editable": false
   },
   "outputs": [
    {
     "name": "stdout",
     "output_type": "stream",
     "text": [
      "The CV accuracies for the 4 models in Q4 are:\n",
      "\n",
      "\tknn_model                0.7413\n",
      "\tlogit_full               0.7373\n",
      "\tlogit_lasso              0.7380\n",
      "\tlasso_interact           0.7380\n",
      "\n",
      "The  accuracy for our original baseline \"naive\" model was 0.7299\n"
     ]
    }
   ],
   "source": [
    "# your code here\n",
    "print(\"The CV accuracies for the 4 models in Q4 are:\\n\")\n",
    "for key, value in q4_cv_scores.items():\n",
    "    print(\"\\t{:<25}{:.4f}\".format(key, value))\n",
    "print(\n",
    "    \"\\nThe  accuracy for our original baseline \\\"naive\\\" \"\n",
    "    \"model was {:.4f}\".format(naive_train_acc)\n",
    ")"
   ]
  },
  {
   "cell_type": "markdown",
   "metadata": {},
   "source": [
    "<div class=\"highlight-box\" style=\"border: 1px solid #ffcccb; background-color: #ffcccb; height: 5px;\"></div>"
   ]
  },
  {
   "cell_type": "markdown",
   "metadata": {},
   "source": [
    "The comparison to the naive model suggests that although each model provided some improvement, each subsequent model was barely better than guessing based on the overall probability of admission, which included all predictors, regularized predictors with optimal regularization hyperparameters determined by cross-validation, and the latter with all pairwise interactions. Based on the fact that none of these approaches resulted in cross-validated accuracy significantly higher than the naive model, we acknowledge that college admissions is a crapshoot. "
   ]
  },
  {
   "cell_type": "markdown",
   "metadata": {},
   "source": [
    "<div class=\"highlight-box\" style=\"border: 1px solid #ffcccb; background-color: #ffcccb; height: 5px;\"></div>"
   ]
  },
  {
   "cell_type": "markdown",
   "metadata": {
    "cell_id": "0a790850-87c6-4f46-b89e-048a2295c92b",
    "colab_type": "text",
    "deletable": false,
    "editable": false,
    "id": "IGFtXJmQap2q"
   },
   "source": [
    "<!-- END QUESTION -->\n",
    "\n",
    "<!-- BEGIN QUESTION -->\n",
    "\n",
    "<div class='exercise-r'>\n",
    "\n",
    "**Q5.2** Draw an ROC curve for each of the four models on a single plot.  How do these ROC curves compare?  Do the ROC curves support that the best model identified in Question 5.1 is better than the worst model identified in 5.1?  How do you know?\n",
    "\n",
    "**Hint:** Use `cross_val_predict` with `method='predict_proba` to get the probability predictions required to construct the ROC curves.\n",
    "</div>"
   ]
  },
  {
   "cell_type": "markdown",
   "metadata": {},
   "source": [
    "<div class=\"highlight-box\" style=\"border: 1px solid #ffcccb; background-color: #ffcccb; height: 5px;\"></div>"
   ]
  },
  {
   "cell_type": "markdown",
   "metadata": {},
   "source": [
    "No, the ROC curves suggest that the knn model is actually the worst model rather than logit_full purely based on accuracy in 5.1. This is because the AUC is evidently lowest for knn, suggesting that the knn model cannot distinguish between classes. This could be due to knn overfitting and classifying the local data well. However, knn in this model and in general has trouble generalizing to all thresholds where probablistic logistic regression typically does a better job. "
   ]
  },
  {
   "cell_type": "markdown",
   "metadata": {},
   "source": [
    "<div class=\"highlight-box\" style=\"border: 1px solid #ffcccb; background-color: #ffcccb; height: 5px;\"></div>"
   ]
  },
  {
   "cell_type": "code",
   "execution_count": 72,
   "metadata": {
    "tags": []
   },
   "outputs": [],
   "source": [
    "# get predictioned probabilities using predict_proba\n",
    "\n",
    "y_pred_knn = cross_val_predict(knn, X_train, y_train, cv=10, method='predict_proba')\n",
    "y_pred_logit_full = cross_val_predict(logit_full, X_train[predictor_list], y_train, cv=10, method='predict_proba')\n",
    "y_pred_logit_lasso = cross_val_predict(logit_lasso, X_train[predictor_list], y_train, cv=10, method='predict_proba')\n",
    "y_pred_lasso_interact = cross_val_predict(lasso_interact, X_train_interactions, y_train, cv=10, method='predict_proba')\n"
   ]
  },
  {
   "cell_type": "code",
   "execution_count": null,
   "metadata": {},
   "outputs": [
    {
     "data": {
      "image/png": "[encoded data removed]",
      "text/plain": [
       "<Figure size 640x480 with 1 Axes>"
      ]
     },
     "metadata": {},
     "output_type": "display_data"
    }
   ],
   "source": [
    "from sklearn.metrics import roc_curve, auc\n",
    "\n",
    "# get true and false positive rates for each using roc_curve as demonstrated in lab\n",
    "fpr_knn, tpr_knn, _ = roc_curve(y_train, y_pred_knn[:, 1])\n",
    "fpr_logit_full, tpr_logit_full, _ = roc_curve(y_train, y_pred_logit_full[:, 1])\n",
    "fpr_logit_lasso, tpr_logit_lasso, _ = roc_curve(y_train, y_pred_logit_lasso[:, 1])\n",
    "fpr_lasso_interact, tpr_lasso_interact, _ = roc_curve(y_train, y_pred_lasso_interact[:, 1])\n",
    "\n",
    "plt.plot(fpr_knn, tpr_knn, color='blue', label='KNN')\n",
    "plt.plot(fpr_logit_full, tpr_logit_full, color='green', label='logit_full')\n",
    "plt.plot(fpr_logit_lasso, tpr_logit_lasso, color='red', label='logit_lasso')\n",
    "plt.plot(fpr_lasso_interact, tpr_lasso_interact, color='purple', label='lasso_interact')\n",
    "\n",
    "plt.plot([0, 1], [0, 1], color='black', lw=2, linestyle='--', label = 'Ratio for Random Guess')\n",
    "plt.xlim([0.0, 1.0])\n",
    "plt.ylim([0.0, 1.0])\n",
    "plt.xlabel('False Positive Rate')\n",
    "plt.ylabel('True Positive Rate')\n",
    "plt.title('ROC Curves for Each Model Created in Part 4')\n",
    "plt.legend()\n",
    "plt.show()"
   ]
  },
  {
   "cell_type": "markdown",
   "metadata": {
    "cell_id": "0a790850-87c6-4f46-b89e-048a2295c92b",
    "colab_type": "text",
    "deletable": false,
    "editable": false,
    "id": "IGFtXJmQap2q"
   },
   "source": [
    "<!-- END QUESTION -->\n",
    "\n",
    "<!-- BEGIN QUESTION -->\n",
    "\n",
    "<div class='exercise-r'>\n",
    "\n",
    "**5.3** Calculate the AUC for all 4 models and store these in `auc_list`. **The order of AUCs in the list should match the order of the model as they appear in `q4_cv_scores`.**\n",
    "    \n",
    "Do the rankings of these 4 models based on AUC match those for classification accuracy?  Why do you think this is the case?\n",
    "    \n",
    "</div>"
   ]
  },
  {
   "cell_type": "markdown",
   "metadata": {},
   "source": [
    "<div class=\"highlight-box\" style=\"border: 1px solid #ffcccb; background-color: #ffcccb; height: 5px;\"></div>"
   ]
  },
  {
   "cell_type": "markdown",
   "metadata": {},
   "source": [
    "No, the rankings of these 4 models based on AUC does not match the more even classification accuracy. This is because the rate of true positives to false positives is sensitive to all possible classification thresholds, making AUC a more variable measure of model goodness of fit. AUC is a better measure of performance in this case since one class, 'not admitted' in this case is far more frequent than 'admitted'."
   ]
  },
  {
   "cell_type": "markdown",
   "metadata": {},
   "source": [
    "<div class=\"highlight-box\" style=\"border: 1px solid #ffcccb; background-color: #ffcccb; height: 5px;\"></div>"
   ]
  },
  {
   "cell_type": "code",
   "execution_count": 74,
   "metadata": {
    "tags": []
   },
   "outputs": [],
   "source": [
    "# your code here\n",
    "roc_auc_knn = auc(fpr_knn, tpr_knn)\n",
    "roc_auc_logit_full = auc(fpr_logit_full, tpr_logit_full)\n",
    "roc_auc_logit_lasso = auc(fpr_logit_lasso, tpr_logit_lasso)\n",
    "roc_auc_lasso_interact = auc(fpr_lasso_interact, tpr_lasso_interact)\n",
    "\n",
    "# calculate each model's AUC using its ROC fpr and tpr\n",
    "auc_list = [roc_auc_knn, roc_auc_logit_full, roc_auc_logit_lasso, roc_auc_lasso_interact]\n",
    "    \n"
   ]
  },
  {
   "cell_type": "code",
   "execution_count": 75,
   "metadata": {
    "tags": []
   },
   "outputs": [
    {
     "name": "stdout",
     "output_type": "stream",
     "text": [
      "The CV accuracies & CV AUC scores for the 4 models in Q4 are:\n",
      "\n",
      "\t\t\t\tAccuracy\tAUC\n",
      "\tknn_model               0.7413\t\t0.6530\n",
      "\tlogit_full              0.7373\t\t0.7013\n",
      "\tlogit_lasso             0.7380\t\t0.7024\n",
      "\tlasso_interact          0.7380\t\t0.6946\n"
     ]
    }
   ],
   "source": [
    "print(\n",
    "    \"The CV accuracies & CV AUC scores for the 4 models in Q4 are:\"\n",
    "    \"\\n\\n\\t\\t\\t\\tAccuracy\\tAUC\"\n",
    ")\n",
    "for (key, value), auc_value in zip(q4_cv_scores.items(), auc_list):\n",
    "    print(\"\\t{:<24}{:.4f}\\t\\t{:.4f}\".format(key, value, auc_value))"
   ]
  },
  {
   "cell_type": "code",
   "execution_count": 76,
   "metadata": {
    "deletable": false,
    "editable": false
   },
   "outputs": [
    {
     "data": {
      "text/html": [
       "<p><strong><pre style='display: inline;'>q5.3</pre></strong> passed! ✨</p>"
      ],
      "text/plain": [
       "q5.3 results: All test cases passed!"
      ]
     },
     "execution_count": 76,
     "metadata": {},
     "output_type": "execute_result"
    }
   ],
   "source": [
    "grader.check(\"q5.3\")"
   ]
  },
  {
   "cell_type": "markdown",
   "metadata": {
    "cell_id": "0a790850-87c6-4f46-b89e-048a2295c92b",
    "colab_type": "text",
    "deletable": false,
    "editable": false,
    "id": "IGFtXJmQap2q"
   },
   "source": [
    "<!-- END QUESTION -->\n",
    "\n",
    "<!-- BEGIN QUESTION -->\n",
    "\n",
    "<div class='exercise-r'>\n",
    "\n",
    "**Q5.4** Select your preferred model based on the cross-validation accuracy and AUC. For this 'final model', display the accuracy and AUC scores on the **test data**. Compare these to the accuracy and AUC score of the naive model from 1.1 when predicting on the test data. Would you offer your final model as a publicly available tool for college applicants to use to determine their chances of getting into Harvard and/or Yale? Why or why not? What might be some consequences of the deployment of the model into the real world?\n",
    "    \n",
    "</div>"
   ]
  },
  {
   "cell_type": "markdown",
   "metadata": {},
   "source": [
    "<div class=\"highlight-box\" style=\"border: 1px solid #ffcccb; background-color: #ffcccb; height: 5px;\"></div>"
   ]
  },
  {
   "cell_type": "markdown",
   "metadata": {},
   "source": [
    "logit_lasso is tied for the highest CV accuracy and has the highest AUC. For the final model, the accuracy and AUC are only slightly higher than the naive model in 1.1 when predicting on the test data. The model's test AUC only being around 0.06 greater than the naive model suggests that the model does not generalize well and is only slightly better than randomly guessing. So I would say no; I would not offer my final model as a publicly available tool for college applicants to use. Even with L1 regularization, there is too much noise and too little of a signal within the sample data to provide viable prediction. Some consequences of deployment of this model may be false interpretations of results. That is, some students may receive admission from the model's output, but they would obtain a prediction at almost the same level of confidence from rolling the dice based on acceptance probabilities as shown in our naive model from 1.1."
   ]
  },
  {
   "cell_type": "markdown",
   "metadata": {},
   "source": [
    "<div class=\"highlight-box\" style=\"border: 1px solid #ffcccb; background-color: #ffcccb; height: 5px;\"></div>"
   ]
  },
  {
   "cell_type": "code",
   "execution_count": 86,
   "metadata": {
    "tags": []
   },
   "outputs": [
    {
     "name": "stdout",
     "output_type": "stream",
     "text": [
      "The accuracy and AUC score for 'logit_lasso' on the test data are:\n",
      "\n",
      "\tAccuracy\t0.7440\n",
      "\tAUC\t\t0.5626\n",
      "The accuracy and AUC score for 'naive_model' on the test data are:\n",
      "\n",
      "\tAccuracy\t0.7307\n",
      "\tAUC\t\t0.5000\n"
     ]
    }
   ],
   "source": [
    "# display accuracy and AUC scores of logit_lasso on test data\n",
    "test_score_logit_lasso = accuracy_score(y_test, logit_lasso.predict(X_test[predictor_list]))\n",
    "\n",
    "y_pred_test_logit_lasso = cross_val_predict(logit_lasso, X_test[predictor_list], y_test, cv=10, method='predict_proba')\n",
    "fpr, tpr, _ = roc_curve(y_test, y_pred_test_logit_lasso[:, 1])\n",
    "auc_score_logit_lasso = auc(fpr, tpr)\n",
    "\n",
    "print(\n",
    "    \"The accuracy and AUC score for 'logit_lasso' on the test data are:\"\n",
    "    \"\\n\\n\\tAccuracy\\t{:.4f}\\n\\tAUC\\t\\t{:.4f}\"\n",
    "    .format(test_score_logit_lasso, auc_score_logit_lasso)\n",
    ")\n",
    "# Calculate naive model accuracy (predicting 0 for all values in test set) \n",
    "naive_test_score = (college_test['admitted'] == 0).mean()\n",
    "\n",
    "# naive model predicts 0 for all\n",
    "naive_auc_score = roc_auc_score(college_test['admitted'], np.zeros(len(college_test)))\n",
    "\n",
    "print(\n",
    "    \"The accuracy and AUC score for 'naive_model' on the test data are:\"\n",
    "    \"\\n\\n\\tAccuracy\\t{:.4f}\\n\\tAUC\\t\\t{:.4f}\"\n",
    "    .format(naive_test_score, naive_auc_score)\n",
    ")"
   ]
  },
  {
   "cell_type": "markdown",
   "metadata": {
    "deletable": false,
    "editable": false
   },
   "source": [
    "<!-- END QUESTION -->\n",
    "\n",
    "<!-- BEGIN QUESTION -->\n",
    "\n",
    "<a id=\"part6\"></a>\n",
    "\n",
    "## <div class='exercise'>Question 6: BONUS!</div>\n",
    "\n",
    "[Return to contents](#contents)"
   ]
  },
  {
   "cell_type": "markdown",
   "metadata": {
    "cell_id": "0a790850-87c6-4f46-b89e-048a2295c92b",
    "colab_type": "text",
    "deletable": false,
    "editable": false,
    "id": "IGFtXJmQap2q"
   },
   "source": [
    "<div class='exercise-r'>\n",
    "\n",
    "**Q6 (optional)** Incorporate what you've learned from the PCA and/or Missingness sections of the course to create a new, improved classification model. You could focus on improving predictive performance, inference, interpretability, or all of the above! \n",
    "\n",
    "Be sure to also describe your approach and analyze your results.\n",
    "\n",
    "While this section is optional, we highly encourge you to experiment (and not just for the sake of the potential bonus points 😉).\n",
    "\n",
    "**Note:** Though you should report the test performance of this new, \"bonus\" model, selecting the bonus model over the 'final model' from Q5.4 would have to be justified based on cross-validation performance, *not* test performance! \n",
    "    \n",
    "</div>"
   ]
  },
  {
   "cell_type": "markdown",
   "metadata": {},
   "source": [
    "<div class=\"highlight-box\" style=\"border: 1px solid #ffcccb; background-color: #ffcccb; height: 5px;\"></div>"
   ]
  },
  {
   "cell_type": "markdown",
   "metadata": {},
   "source": [
    "This approach first analyzes any missing values in the predictor dataset, not including 'program' or 'add_info' since those variables were deemed unimportant predictors at the start of the homework. After necessarily imputing any missing values, I will analyze the 'elbow curve' of the explained variance ratio for principal components of the 12 predictors, not including interaction terms which did not increase model accuracy above in part 4. Then, looping through different numbers of components of pca, I will determine which number of components leads to the best cross-validated accuracy on the test data.\n",
    "\n",
    "I did select this 'bonus' model with eleven cross-validated principal components over the final model from Q5.4 based on cross-validation performance. However, it should be noted that this bonus model performed worse on the test dataset than the *logit_lasso8 model, so the model from Q5 may have just gotten lucky with the test dataset..."
   ]
  },
  {
   "cell_type": "markdown",
   "metadata": {},
   "source": [
    "<div class=\"highlight-box\" style=\"border: 1px solid #ffcccb; background-color: #ffcccb; height: 5px;\"></div>"
   ]
  },
  {
   "cell_type": "code",
   "execution_count": 87,
   "metadata": {},
   "outputs": [
    {
     "data": {
      "text/plain": [
       "id                 0\n",
       "admitted           0\n",
       "test_score         0\n",
       "ap                 0\n",
       "avg_ap             0\n",
       "sat_subjects       0\n",
       "gpa                0\n",
       "female             0\n",
       "minority           0\n",
       "international      0\n",
       "sports             0\n",
       "early_app          0\n",
       "alumni             0\n",
       "program          251\n",
       "add_info         687\n",
       "harvard            0\n",
       "dtype: int64"
      ]
     },
     "execution_count": 87,
     "metadata": {},
     "output_type": "execute_result"
    }
   ],
   "source": [
    "# explore missingness in data\n",
    "college.isnull().sum()"
   ]
  },
  {
   "cell_type": "code",
   "execution_count": 89,
   "metadata": {
    "tags": []
   },
   "outputs": [
    {
     "name": "stderr",
     "output_type": "stream",
     "text": [
      "C:\\Users\\khcod\\AppData\\Local\\Temp\\ipykernel_9376\\1368849061.py:6: SettingWithCopyWarning: \n",
      "A value is trying to be set on a copy of a slice from a DataFrame.\n",
      "Try using .loc[row_indexer,col_indexer] = value instead\n",
      "\n",
      "See the caveats in the documentation: https://pandas.pydata.org/pandas-docs/stable/user_guide/indexing.html#returning-a-view-versus-a-copy\n",
      "  X_train[non_binary_predictors] = scaler.fit_transform(college_train[non_binary_predictors])\n",
      "C:\\Users\\khcod\\AppData\\Local\\Temp\\ipykernel_9376\\1368849061.py:7: SettingWithCopyWarning: \n",
      "A value is trying to be set on a copy of a slice from a DataFrame.\n",
      "Try using .loc[row_indexer,col_indexer] = value instead\n",
      "\n",
      "See the caveats in the documentation: https://pandas.pydata.org/pandas-docs/stable/user_guide/indexing.html#returning-a-view-versus-a-copy\n",
      "  X_test[non_binary_predictors] = scaler.transform(college_test[non_binary_predictors])\n"
     ]
    },
    {
     "data": {
      "text/plain": [
       "Text(0.5, 1.0, 'Cumulative Explained Variance vs. Number of Principal Components')"
      ]
     },
     "execution_count": 89,
     "metadata": {},
     "output_type": "execute_result"
    },
    {
     "data": {
      "image/png": "[encoded data removed]",
      "text/plain": [
       "<Figure size 800x800 with 1 Axes>"
      ]
     },
     "metadata": {},
     "output_type": "display_data"
    }
   ],
   "source": [
    "# get  predictors for X_train, X_test\n",
    "X_train = college_train[predictor_list]\n",
    "X_test = college_test[predictor_list]\n",
    "\n",
    "scaler = StandardScaler()\n",
    "X_train[non_binary_predictors] = scaler.fit_transform(college_train[non_binary_predictors])\n",
    "X_test[non_binary_predictors] = scaler.transform(college_test[non_binary_predictors])\n",
    "\n",
    "# perform PCA for train data\n",
    "from sklearn.decomposition import PCA\n",
    "pca = PCA()\n",
    "X_train_pca = pca.fit_transform(X_train)\n",
    "\n",
    "# plot explained variance ratio\n",
    "plt.figure(figsize=(8, 8))\n",
    "plt.plot(np.cumsum(pca.explained_variance_ratio_), marker='o')\n",
    "plt.xlabel('Number of Principal Components')\n",
    "plt.ylabel('Cumulative Explained Variance')\n",
    "plt.title('Cumulative Explained Variance vs. Number of Principal Components')"
   ]
  },
  {
   "cell_type": "markdown",
   "metadata": {},
   "source": [
    "it looks like components 1-8 explain almost all of the variance"
   ]
  },
  {
   "cell_type": "code",
   "execution_count": 90,
   "metadata": {},
   "outputs": [
    {
     "name": "stdout",
     "output_type": "stream",
     "text": [
      "The classification accuracies for 'logit_pca' are:\n",
      "\n",
      "\tTrain\t0.7386\n",
      "\tCV Validation\t0.7293\n"
     ]
    }
   ],
   "source": [
    "# fit logistic regression with PCA with 8 components\n",
    "pca = PCA(n_components=8)\n",
    "X_train_pca = pca.fit_transform(X_train)\n",
    "X_test_pca = pca.transform(X_test)\n",
    "\n",
    "logit_pca = LogisticRegression(random_state=109, max_iter=1000, solver='liblinear').fit(X_train_pca, y_train)\n",
    "logit_pca_train_acc = accuracy_score(y_train, logit_pca.predict(X_train_pca))\n",
    "logit_pca_cv_acc = cross_val_score(logit_pca, X_train_pca, y_train, cv=10).mean()\n",
    "\n",
    "print(\n",
    "    \"The classification accuracies for 'logit_pca' are:\"\n",
    "    \"\\n\\n\\tTrain\\t{:.4f}\\n\\tCV Validation\\t{:.4f}\"\n",
    "    .format(logit_pca_train_acc, logit_pca_cv_acc)\n",
    ")"
   ]
  },
  {
   "cell_type": "code",
   "execution_count": 97,
   "metadata": {},
   "outputs": [
    {
     "name": "stdout",
     "output_type": "stream",
     "text": [
      "PCA n_components=1:\n",
      "\tTrain Accuracy: 0.7299\n",
      "\tCV Accuracy: 0.7300\n",
      "\n",
      "PCA n_components=2:\n",
      "\tTrain Accuracy: 0.7299\n",
      "\tCV Accuracy: 0.7300\n",
      "\n",
      "PCA n_components=3:\n",
      "\tTrain Accuracy: 0.7299\n",
      "\tCV Accuracy: 0.7300\n",
      "\n",
      "PCA n_components=4:\n",
      "\tTrain Accuracy: 0.7313\n",
      "\tCV Accuracy: 0.7300\n",
      "\n",
      "PCA n_components=5:\n",
      "\tTrain Accuracy: 0.7333\n",
      "\tCV Accuracy: 0.7299\n",
      "\n",
      "PCA n_components=6:\n",
      "\tTrain Accuracy: 0.7333\n",
      "\tCV Accuracy: 0.7286\n",
      "\n",
      "PCA n_components=7:\n",
      "\tTrain Accuracy: 0.7320\n",
      "\tCV Accuracy: 0.7293\n",
      "\n",
      "PCA n_components=8:\n",
      "\tTrain Accuracy: 0.7393\n",
      "\tCV Accuracy: 0.7293\n",
      "\n",
      "PCA n_components=9:\n",
      "\tTrain Accuracy: 0.7400\n",
      "\tCV Accuracy: 0.7360\n",
      "\n",
      "PCA n_components=10:\n",
      "\tTrain Accuracy: 0.7406\n",
      "\tCV Accuracy: 0.7366\n",
      "\n",
      "PCA n_components=11:\n",
      "\tTrain Accuracy: 0.7467\n",
      "\tCV Accuracy: 0.7413\n",
      "\n",
      "PCA n_components=12:\n",
      "\tTrain Accuracy: 0.7426\n",
      "\tCV Accuracy: 0.7340\n",
      "\n"
     ]
    }
   ],
   "source": [
    "# Test PCA with n_components values\n",
    "for n in range(1, 13):\n",
    "    pca = PCA(n_components=n)\n",
    "    X_train_pca = pca.fit_transform(X_train)\n",
    "    logit_pca = LogisticRegression(random_state=109, max_iter=10000).fit(X_train_pca, y_train)\n",
    "    logit_pca_train_acc = accuracy_score(y_train, logit_pca.predict(X_train_pca))\n",
    "    logit_pca_cv_acc = cross_val_score(logit_pca, X_train_pca, y_train, cv=10).mean()\n",
    "    print(\n",
    "        f\"PCA n_components={n}:\"\n",
    "        f\"\\n\\tTrain Accuracy: {logit_pca_train_acc:.4f}\"\n",
    "        f\"\\n\\tCV Accuracy: {logit_pca_cv_acc:.4f}\\n\"\n",
    "    )"
   ]
  },
  {
   "cell_type": "code",
   "execution_count": 99,
   "metadata": {},
   "outputs": [
    {
     "name": "stdout",
     "output_type": "stream",
     "text": [
      "PCA n_components=11:\n",
      "\tTest Accuracy: 0.7280\n",
      "\n"
     ]
    }
   ],
   "source": [
    "# report test performance with 11 components \n",
    "pca = PCA(n_components=11)\n",
    "X_train_pca = pca.fit_transform(X_train)\n",
    "X_test_pca = pca.transform(X_test)\n",
    "\n",
    "logit_pca_final = LogisticRegression(random_state=109, max_iter=10000).fit(X_train_pca, y_train)\n",
    "logit_pca_test_acc = accuracy_score(y_test, logit_pca_final.predict(X_test_pca))\n",
    "\n",
    "print(\n",
    "        f\"PCA n_components={11}:\"\n",
    "        f\"\\n\\tTest Accuracy: {logit_pca_test_acc:.4f}\\n\"\n",
    "    )"
   ]
  },
  {
   "cell_type": "markdown",
   "metadata": {
    "deletable": false,
    "editable": false
   },
   "source": [
    "<!-- END QUESTION -->\n",
    "\n",
    "<div class=\"alert alert-info\" style=\"color: #4a4a4a; background-color: #fbe8ff; border-color: #eed4db; border-width: 1px; border-radius: 3px; padding: 10px;\">\n",
    "\n",
    "**Wrap-up**\n",
    "\n",
    "* Please describe the aspect(s) of the assignment you found most challenging. This could be conceptual and/or related to coding and implementation. This is also a good place to ask any remaining questions you may have.\n",
    "\n",
    "* How many hours did you spend working on this assignment? Store this as an int or float in `hours_spent_on_hw`. If you worked on the project in a group, report the *average* time spent per person.\n",
    "\n",
    "</div>"
   ]
  },
  {
   "cell_type": "code",
   "execution_count": null,
   "metadata": {
    "tags": []
   },
   "outputs": [],
   "source": [
    "hours_spent_on_hw = 19"
   ]
  },
  {
   "cell_type": "code",
   "execution_count": 114,
   "metadata": {
    "deletable": false,
    "editable": false
   },
   "outputs": [
    {
     "data": {
      "text/html": [
       "<p><strong><pre style='display: inline;'>wrapup</pre></strong> passed! 🎉</p>"
      ],
      "text/plain": [
       "wrapup results: All test cases passed!"
      ]
     },
     "execution_count": 114,
     "metadata": {},
     "output_type": "execute_result"
    }
   ],
   "source": [
    "grader.check(\"wrapup\")"
   ]
  },
  {
   "cell_type": "code",
   "execution_count": 96,
   "metadata": {},
   "outputs": [
    {
     "name": "stdout",
     "output_type": "stream",
     "text": [
      "It took 32.41 minutes for this notebook to run\n"
     ]
    }
   ],
   "source": [
    "notebook_end = time.time()\n",
    "print(f\"It took {(notebook_end - notebook_start)/60:.2f} minutes for this notebook to run\")"
   ]
  },
  {
   "cell_type": "markdown",
   "metadata": {},
   "source": [
    "🌈 **This concludes HW5. Thank you!**\n",
    "\n",
    "[Return to contents](#contents)"
   ]
  },
  {
   "cell_type": "code",
   "execution_count": null,
   "metadata": {},
   "outputs": [],
   "source": []
  }
 ],
 "metadata": {
  "kernelspec": {
   "display_name": "Python 3",
   "language": "python",
   "name": "python3"
  },
  "language_info": {
   "codemirror_mode": {
    "name": "ipython",
    "version": 3
   },
   "file_extension": ".py",
   "mimetype": "text/x-python",
   "name": "python",
   "nbconvert_exporter": "python",
   "pygments_lexer": "ipython3",
   "version": "3.12.7"
  },
  "otter": {
   "OK_FORMAT": true,
   "tests": {
    "q1.1": {
     "name": "q1.1",
     "points": 2.5,
     "suites": [
      {
       "cases": [
        {
         "code": ">>> assert np.isclose(naive_train_acc, 0.7299, atol=0.0001), 'Incorrect naive train accuracy'\n",
         "hidden": false,
         "locked": false,
         "points": 2.5
        }
       ],
       "scored": true,
       "setup": "",
       "teardown": "",
       "type": "doctest"
      }
     ]
    },
    "q1.4": {
     "name": "q1.4",
     "points": 4,
     "suites": [
      {
       "cases": [
        {
         "code": ">>> assert type(logit1_4) == type(LogisticRegression()), 'logit1_4 should be am sklearn LogisticRegression object'\n",
         "hidden": false,
         "locked": false,
         "points": 0
        },
        {
         "code": ">>> assert np.isclose(p_harvard, 0.2938, atol=0.0001), 'Incorrect value for p_harvard'\n",
         "hidden": false,
         "locked": false,
         "points": 1
        },
        {
         "code": ">>> assert np.isclose(p_yale, 0.2445, atol=0.0001), 'Incorrect value for p_yale'\n",
         "hidden": false,
         "locked": false,
         "points": 1
        }
       ],
       "scored": true,
       "setup": "",
       "teardown": "",
       "type": "doctest"
      }
     ]
    },
    "q2.1": {
     "name": "q2.1",
     "points": 3,
     "suites": [
      {
       "cases": [
        {
         "code": ">>> assert np.isclose(logit2_1_intercept, -10.5474, atol=0.0001), 'logit2_1_intercept should be a float between -10 and 10'\n>>> assert np.isclose(logit2_1_coef_test_score, 0.0043, atol=0.0001), 'logit2_1_coef_test_score should be a float between -1 and 1'\n",
         "hidden": false,
         "locked": false,
         "points": 1
        },
        {
         "code": ">>> assert np.isclose(acc_train_logit2_1, 0.7299, atol=0.0001), 'acc_train_logit2_1 is incorrect'\n",
         "hidden": false,
         "locked": false,
         "points": 1
        },
        {
         "code": ">>> assert np.isclose(acc_cv_logit2_1, 0.73, atol=0.0001), 'acc_cv_logit2_1 is incorrect'\n",
         "hidden": false,
         "locked": false,
         "points": 1
        }
       ],
       "scored": true,
       "setup": "",
       "teardown": "",
       "type": "doctest"
      }
     ]
    },
    "q2.2": {
     "name": "q2.2",
     "points": 4,
     "suites": [
      {
       "cases": [
        {
         "code": ">>> assert np.isclose(prob_test_2250, 0.3019, atol=0.0001), 'prob_test_2250 is incorrect'\n",
         "hidden": false,
         "locked": false,
         "points": 1.25
        },
        {
         "code": ">>> assert np.isclose(prob_test_2400, 0.4525, atol=0.0001), 'prob_test_2400 is incorrect'\n",
         "hidden": false,
         "locked": false,
         "points": 1.25
        },
        {
         "code": ">>> assert np.isclose(test_50_50, 2444.2, atol=0.01), 'test_50_50 is incorrect'\n",
         "hidden": false,
         "locked": false,
         "points": 1.5
        }
       ],
       "scored": true,
       "setup": "",
       "teardown": "",
       "type": "doctest"
      }
     ]
    },
    "q2.3": {
     "name": "q2.3",
     "points": 3,
     "suites": [
      {
       "cases": [
        {
         "code": ">>> assert np.isclose(logit2_3_intercept, -10.9086, atol=0.0001), 'logit2_3_intercept is incorrect.'\n>>> assert np.isclose(logit2_3_coef_test_score, 0.0046, atol=0.0001), 'logit2_3_coef_test is incorrect.'\n>>> assert np.isclose(logit2_3_coef_avg_ap, -0.0723, atol=0.0001), 'logit2_3_coef_avg_ap is incorrect.'\n",
         "hidden": false,
         "locked": false,
         "points": 1
        },
        {
         "code": ">>> assert np.isclose(acc_train_logit2_3, 0.7306, atol=0.0001), 'acc_train_logit2_3 is incorrect'\n",
         "hidden": false,
         "locked": false,
         "points": 1
        },
        {
         "code": ">>> assert np.isclose(acc_cv_logit2_3, 0.7299, atol=0.0001), 'acc_av_logit2_3 is incorrect'\n",
         "hidden": false,
         "locked": false,
         "points": 1
        }
       ],
       "scored": true,
       "setup": "",
       "teardown": "",
       "type": "doctest"
      }
     ]
    },
    "q3.1": {
     "name": "q3.1",
     "points": 4,
     "suites": [
      {
       "cases": [
        {
         "code": ">>> assert np.isclose(acc_train_logit3_1, 0.7353, atol=0.0001), 'acc_train_logit3_1 is incorrect'\n",
         "hidden": false,
         "locked": false,
         "points": 1
        },
        {
         "code": ">>> assert np.isclose(acc_cv_logit3_1, 0.73, atol=0.0001), 'acc_test_logit3_1 is incorrect'\n",
         "hidden": false,
         "locked": false,
         "points": 1
        }
       ],
       "scored": true,
       "setup": "",
       "teardown": "",
       "type": "doctest"
      }
     ]
    },
    "q3.2": {
     "name": "q3.2",
     "points": 3,
     "suites": [
      {
       "cases": [
        {
         "code": ">>> assert len(logit3_2_coefs) == 5, 'logit3_2 should have 5 coefficients (not including the intercept)'\n",
         "hidden": false,
         "locked": false,
         "points": 1
        },
        {
         "code": ">>> assert np.isclose(acc_train_logit3_2, 0.736, atol=0.0001), 'logit3_2 coef values is incorrect'\n>>> assert np.isclose(acc_cv_logit3_2, 0.7353, atol=0.0001), 'logit3_2 coef values is incorrect'\n",
         "hidden": false,
         "locked": false,
         "points": 2
        }
       ],
       "scored": true,
       "setup": "",
       "teardown": "",
       "type": "doctest"
      }
     ]
    },
    "q3.6": {
     "name": "q3.6",
     "points": 3,
     "suites": [
      {
       "cases": [
        {
         "code": ">>> assert len(logit3_6.coef_.flatten()) == 6, 'logit3_6 should have 6 coefficients (not including the intercept)'\n",
         "hidden": false,
         "locked": false,
         "points": 1
        },
        {
         "code": ">>> assert np.isclose(acc_train_logit3_6, 0.7353, atol=0.0001), 'logit3_6 train accuracy is incorrect.'\n>>> assert np.isclose(acc_cv_logit3_6, 0.7279, atol=0.0001), 'logit3_6 CV accuracy is incorrect.'\n",
         "hidden": false,
         "locked": false,
         "points": 2
        }
       ],
       "scored": true,
       "setup": "",
       "teardown": "",
       "type": "doctest"
      }
     ]
    },
    "q4.1": {
     "name": "q4.1",
     "points": 4,
     "suites": [
      {
       "cases": [
        {
         "code": ">>> assert np.isclose(X_train[non_binary_predictors].values.mean(), 0), 'Non-binary predictors in train should now have mean 0'\n>>> assert np.isclose(X_test[non_binary_predictors].values.mean(), 0, atol=0.1), 'Non-binary predictors in test should now have mean near 0'\n>>> assert np.isclose(X_train[non_binary_predictors].values.std(), 1), 'Non-binary predictors in train should now have std 1'\n>>> assert np.isclose(X_test[non_binary_predictors].values.std(), 1, atol=0.1), 'Non-binary predictors in test should now have std near 1'\n>>> assert set(X_train['harvard'].unique()) == {0, 1}, 'You should not scale the binary predictors.'\n",
         "hidden": false,
         "locked": false,
         "points": 1
        }
       ],
       "scored": true,
       "setup": "",
       "teardown": "",
       "type": "doctest"
      }
     ]
    },
    "q4.3": {
     "name": "q4.3",
     "points": 3,
     "suites": [
      {
       "cases": [
        {
         "code": ">>> assert np.isclose(logit_full_cv_acc, 0.738, atol=0.001), 'logit_full_cv_acc is incorrect'\n",
         "hidden": false,
         "locked": false,
         "points": 1.5
        }
       ],
       "scored": true,
       "setup": "",
       "teardown": "",
       "type": "doctest"
      }
     ]
    },
    "q4.4": {
     "name": "q4.4",
     "points": 4,
     "suites": [
      {
       "cases": [
        {
         "code": ">>> assert np.isclose(logit_lasso_train_acc, 0.742, atol=0.002), 'logit_lasso_train_acc is incorrect'\n",
         "hidden": false,
         "locked": false,
         "points": 2
        },
        {
         "code": ">>> assert np.isclose(logit_lasso_cv_acc, 0.738, atol=0.002), 'logit_lasso_cv_acc is incorrect'\n",
         "hidden": false,
         "locked": false,
         "points": 2
        }
       ],
       "scored": true,
       "setup": "",
       "teardown": "",
       "type": "doctest"
      }
     ]
    },
    "q4.5": {
     "name": "q4.5",
     "points": 3,
     "suites": [
      {
       "cases": [
        {
         "code": ">>> assert len(predictors_important) == 11, 'Incorrect number of important predictors'\n",
         "hidden": false,
         "locked": false,
         "points": 1
        },
        {
         "code": ">>> assert len(predictors_not_important) == 1, 'Incorrect number of non-important predictors'\n",
         "hidden": false,
         "locked": false,
         "points": 1
        }
       ],
       "scored": true,
       "setup": "",
       "teardown": "",
       "type": "doctest"
      }
     ]
    },
    "q4.7": {
     "name": "q4.7",
     "points": 2,
     "suites": [
      {
       "cases": [
        {
         "code": ">>> assert num_important_coefs == 44, 'Incorrect number of important predictors'\n",
         "hidden": false,
         "locked": false,
         "points": 1
        },
        {
         "code": ">>> assert num_unimportant_coefs == 22, 'Incorrect number of non-important predictors'\n",
         "hidden": false,
         "locked": false,
         "points": 1
        }
       ],
       "scored": true,
       "setup": "",
       "teardown": "",
       "type": "doctest"
      }
     ]
    },
    "q5.3": {
     "name": "q5.3",
     "points": 3,
     "suites": [
      {
       "cases": [
        {
         "code": ">>> assert len(auc_list) == 4, 'You should have 4 entries in auc_list'\n",
         "hidden": false,
         "locked": false,
         "points": 0
        },
        {
         "code": ">>> assert np.allclose(auc_list, [0.6528, 0.7013, 0.7024, 0.6946], atol=0.001), 'AUC scores are off.'\n",
         "hidden": false,
         "locked": false,
         "points": 2
        }
       ],
       "scored": true,
       "setup": "",
       "teardown": "",
       "type": "doctest"
      }
     ]
    },
    "wrapup": {
     "name": "wrapup",
     "points": 0,
     "suites": [
      {
       "cases": [
        {
         "code": ">>> assert float(hours_spent_on_hw), 'Please select a time in hours (int or float) to specify how long you spent on this assignment.'\n",
         "hidden": false,
         "locked": false
        }
       ],
       "scored": true,
       "setup": "",
       "teardown": "",
       "type": "doctest"
      }
     ]
    }
   }
  }
 },
 "nbformat": 4,
 "nbformat_minor": 4
}
